{
 "cells": [
  {
   "cell_type": "code",
   "execution_count": 1,
   "id": "4f143584",
   "metadata": {},
   "outputs": [],
   "source": [
    "import numpy as np\n",
    "import pandas as pd"
   ]
  },
  {
   "cell_type": "markdown",
   "id": "bf4b5486",
   "metadata": {},
   "source": [
    "Data: https://www.kaggle.com/datasets/danofer/compass/data"
   ]
  },
  {
   "cell_type": "code",
   "execution_count": 2,
   "id": "791f8b59",
   "metadata": {},
   "outputs": [],
   "source": [
    "data = pd.read_csv(\"compas-scores-raw.csv\", delimiter=\",\")"
   ]
  },
  {
   "cell_type": "code",
   "execution_count": 3,
   "id": "f678faec",
   "metadata": {},
   "outputs": [
    {
     "name": "stdout",
     "output_type": "stream",
     "text": [
      "(60843, 28)\n"
     ]
    }
   ],
   "source": [
    "print(data.shape)"
   ]
  },
  {
   "cell_type": "code",
   "execution_count": 4,
   "id": "cf8df907",
   "metadata": {},
   "outputs": [],
   "source": [
    "pd.set_option('display.max_columns', None)"
   ]
  },
  {
   "cell_type": "code",
   "execution_count": 5,
   "id": "bc2aae78",
   "metadata": {},
   "outputs": [
    {
     "data": {
      "text/html": [
       "<div>\n",
       "<style scoped>\n",
       "    .dataframe tbody tr th:only-of-type {\n",
       "        vertical-align: middle;\n",
       "    }\n",
       "\n",
       "    .dataframe tbody tr th {\n",
       "        vertical-align: top;\n",
       "    }\n",
       "\n",
       "    .dataframe thead th {\n",
       "        text-align: right;\n",
       "    }\n",
       "</style>\n",
       "<table border=\"1\" class=\"dataframe\">\n",
       "  <thead>\n",
       "    <tr style=\"text-align: right;\">\n",
       "      <th></th>\n",
       "      <th>Person_ID</th>\n",
       "      <th>AssessmentID</th>\n",
       "      <th>Case_ID</th>\n",
       "      <th>Agency_Text</th>\n",
       "      <th>LastName</th>\n",
       "      <th>FirstName</th>\n",
       "      <th>MiddleName</th>\n",
       "      <th>Sex_Code_Text</th>\n",
       "      <th>Ethnic_Code_Text</th>\n",
       "      <th>DateOfBirth</th>\n",
       "      <th>ScaleSet_ID</th>\n",
       "      <th>ScaleSet</th>\n",
       "      <th>AssessmentReason</th>\n",
       "      <th>Language</th>\n",
       "      <th>LegalStatus</th>\n",
       "      <th>CustodyStatus</th>\n",
       "      <th>MaritalStatus</th>\n",
       "      <th>Screening_Date</th>\n",
       "      <th>RecSupervisionLevel</th>\n",
       "      <th>RecSupervisionLevelText</th>\n",
       "      <th>Scale_ID</th>\n",
       "      <th>DisplayText</th>\n",
       "      <th>RawScore</th>\n",
       "      <th>DecileScore</th>\n",
       "      <th>ScoreText</th>\n",
       "      <th>AssessmentType</th>\n",
       "      <th>IsCompleted</th>\n",
       "      <th>IsDeleted</th>\n",
       "    </tr>\n",
       "  </thead>\n",
       "  <tbody>\n",
       "    <tr>\n",
       "      <th>0</th>\n",
       "      <td>50844</td>\n",
       "      <td>57167</td>\n",
       "      <td>51950</td>\n",
       "      <td>PRETRIAL</td>\n",
       "      <td>Fisher</td>\n",
       "      <td>Kevin</td>\n",
       "      <td>NaN</td>\n",
       "      <td>Male</td>\n",
       "      <td>Caucasian</td>\n",
       "      <td>12/05/92</td>\n",
       "      <td>22</td>\n",
       "      <td>Risk and Prescreen</td>\n",
       "      <td>Intake</td>\n",
       "      <td>English</td>\n",
       "      <td>Pretrial</td>\n",
       "      <td>Jail Inmate</td>\n",
       "      <td>Single</td>\n",
       "      <td>1/1/13 0:00</td>\n",
       "      <td>1</td>\n",
       "      <td>Low</td>\n",
       "      <td>7</td>\n",
       "      <td>Risk of Violence</td>\n",
       "      <td>-2.08</td>\n",
       "      <td>4</td>\n",
       "      <td>Low</td>\n",
       "      <td>New</td>\n",
       "      <td>1</td>\n",
       "      <td>0</td>\n",
       "    </tr>\n",
       "    <tr>\n",
       "      <th>1</th>\n",
       "      <td>50844</td>\n",
       "      <td>57167</td>\n",
       "      <td>51950</td>\n",
       "      <td>PRETRIAL</td>\n",
       "      <td>Fisher</td>\n",
       "      <td>Kevin</td>\n",
       "      <td>NaN</td>\n",
       "      <td>Male</td>\n",
       "      <td>Caucasian</td>\n",
       "      <td>12/05/92</td>\n",
       "      <td>22</td>\n",
       "      <td>Risk and Prescreen</td>\n",
       "      <td>Intake</td>\n",
       "      <td>English</td>\n",
       "      <td>Pretrial</td>\n",
       "      <td>Jail Inmate</td>\n",
       "      <td>Single</td>\n",
       "      <td>1/1/13 0:00</td>\n",
       "      <td>1</td>\n",
       "      <td>Low</td>\n",
       "      <td>8</td>\n",
       "      <td>Risk of Recidivism</td>\n",
       "      <td>-1.06</td>\n",
       "      <td>2</td>\n",
       "      <td>Low</td>\n",
       "      <td>New</td>\n",
       "      <td>1</td>\n",
       "      <td>0</td>\n",
       "    </tr>\n",
       "    <tr>\n",
       "      <th>2</th>\n",
       "      <td>50844</td>\n",
       "      <td>57167</td>\n",
       "      <td>51950</td>\n",
       "      <td>PRETRIAL</td>\n",
       "      <td>Fisher</td>\n",
       "      <td>Kevin</td>\n",
       "      <td>NaN</td>\n",
       "      <td>Male</td>\n",
       "      <td>Caucasian</td>\n",
       "      <td>12/05/92</td>\n",
       "      <td>22</td>\n",
       "      <td>Risk and Prescreen</td>\n",
       "      <td>Intake</td>\n",
       "      <td>English</td>\n",
       "      <td>Pretrial</td>\n",
       "      <td>Jail Inmate</td>\n",
       "      <td>Single</td>\n",
       "      <td>1/1/13 0:00</td>\n",
       "      <td>1</td>\n",
       "      <td>Low</td>\n",
       "      <td>18</td>\n",
       "      <td>Risk of Failure to Appear</td>\n",
       "      <td>15.00</td>\n",
       "      <td>1</td>\n",
       "      <td>Low</td>\n",
       "      <td>New</td>\n",
       "      <td>1</td>\n",
       "      <td>0</td>\n",
       "    </tr>\n",
       "    <tr>\n",
       "      <th>3</th>\n",
       "      <td>50848</td>\n",
       "      <td>57174</td>\n",
       "      <td>51956</td>\n",
       "      <td>PRETRIAL</td>\n",
       "      <td>KENDALL</td>\n",
       "      <td>KEVIN</td>\n",
       "      <td>NaN</td>\n",
       "      <td>Male</td>\n",
       "      <td>Caucasian</td>\n",
       "      <td>09/16/84</td>\n",
       "      <td>22</td>\n",
       "      <td>Risk and Prescreen</td>\n",
       "      <td>Intake</td>\n",
       "      <td>English</td>\n",
       "      <td>Pretrial</td>\n",
       "      <td>Jail Inmate</td>\n",
       "      <td>Married</td>\n",
       "      <td>1/1/13 0:00</td>\n",
       "      <td>1</td>\n",
       "      <td>Low</td>\n",
       "      <td>7</td>\n",
       "      <td>Risk of Violence</td>\n",
       "      <td>-2.84</td>\n",
       "      <td>2</td>\n",
       "      <td>Low</td>\n",
       "      <td>New</td>\n",
       "      <td>1</td>\n",
       "      <td>0</td>\n",
       "    </tr>\n",
       "    <tr>\n",
       "      <th>4</th>\n",
       "      <td>50848</td>\n",
       "      <td>57174</td>\n",
       "      <td>51956</td>\n",
       "      <td>PRETRIAL</td>\n",
       "      <td>KENDALL</td>\n",
       "      <td>KEVIN</td>\n",
       "      <td>NaN</td>\n",
       "      <td>Male</td>\n",
       "      <td>Caucasian</td>\n",
       "      <td>09/16/84</td>\n",
       "      <td>22</td>\n",
       "      <td>Risk and Prescreen</td>\n",
       "      <td>Intake</td>\n",
       "      <td>English</td>\n",
       "      <td>Pretrial</td>\n",
       "      <td>Jail Inmate</td>\n",
       "      <td>Married</td>\n",
       "      <td>1/1/13 0:00</td>\n",
       "      <td>1</td>\n",
       "      <td>Low</td>\n",
       "      <td>8</td>\n",
       "      <td>Risk of Recidivism</td>\n",
       "      <td>-1.50</td>\n",
       "      <td>1</td>\n",
       "      <td>Low</td>\n",
       "      <td>New</td>\n",
       "      <td>1</td>\n",
       "      <td>0</td>\n",
       "    </tr>\n",
       "  </tbody>\n",
       "</table>\n",
       "</div>"
      ],
      "text/plain": [
       "   Person_ID  AssessmentID  Case_ID Agency_Text LastName FirstName MiddleName  \\\n",
       "0      50844         57167    51950    PRETRIAL   Fisher     Kevin        NaN   \n",
       "1      50844         57167    51950    PRETRIAL   Fisher     Kevin        NaN   \n",
       "2      50844         57167    51950    PRETRIAL   Fisher     Kevin        NaN   \n",
       "3      50848         57174    51956    PRETRIAL  KENDALL     KEVIN        NaN   \n",
       "4      50848         57174    51956    PRETRIAL  KENDALL     KEVIN        NaN   \n",
       "\n",
       "  Sex_Code_Text Ethnic_Code_Text DateOfBirth  ScaleSet_ID            ScaleSet  \\\n",
       "0          Male        Caucasian    12/05/92           22  Risk and Prescreen   \n",
       "1          Male        Caucasian    12/05/92           22  Risk and Prescreen   \n",
       "2          Male        Caucasian    12/05/92           22  Risk and Prescreen   \n",
       "3          Male        Caucasian    09/16/84           22  Risk and Prescreen   \n",
       "4          Male        Caucasian    09/16/84           22  Risk and Prescreen   \n",
       "\n",
       "  AssessmentReason Language LegalStatus CustodyStatus MaritalStatus  \\\n",
       "0           Intake  English    Pretrial   Jail Inmate        Single   \n",
       "1           Intake  English    Pretrial   Jail Inmate        Single   \n",
       "2           Intake  English    Pretrial   Jail Inmate        Single   \n",
       "3           Intake  English    Pretrial   Jail Inmate       Married   \n",
       "4           Intake  English    Pretrial   Jail Inmate       Married   \n",
       "\n",
       "  Screening_Date  RecSupervisionLevel RecSupervisionLevelText  Scale_ID  \\\n",
       "0    1/1/13 0:00                    1                     Low         7   \n",
       "1    1/1/13 0:00                    1                     Low         8   \n",
       "2    1/1/13 0:00                    1                     Low        18   \n",
       "3    1/1/13 0:00                    1                     Low         7   \n",
       "4    1/1/13 0:00                    1                     Low         8   \n",
       "\n",
       "                 DisplayText  RawScore  DecileScore ScoreText AssessmentType  \\\n",
       "0           Risk of Violence     -2.08            4       Low            New   \n",
       "1         Risk of Recidivism     -1.06            2       Low            New   \n",
       "2  Risk of Failure to Appear     15.00            1       Low            New   \n",
       "3           Risk of Violence     -2.84            2       Low            New   \n",
       "4         Risk of Recidivism     -1.50            1       Low            New   \n",
       "\n",
       "   IsCompleted  IsDeleted  \n",
       "0            1          0  \n",
       "1            1          0  \n",
       "2            1          0  \n",
       "3            1          0  \n",
       "4            1          0  "
      ]
     },
     "execution_count": 5,
     "metadata": {},
     "output_type": "execute_result"
    }
   ],
   "source": [
    "data.head()"
   ]
  },
  {
   "cell_type": "code",
   "execution_count": 6,
   "id": "9f1083fd",
   "metadata": {},
   "outputs": [
    {
     "name": "stdout",
     "output_type": "stream",
     "text": [
      "Person_ID                    int64\n",
      "AssessmentID                 int64\n",
      "Case_ID                      int64\n",
      "Agency_Text                 object\n",
      "LastName                    object\n",
      "FirstName                   object\n",
      "MiddleName                  object\n",
      "Sex_Code_Text               object\n",
      "Ethnic_Code_Text            object\n",
      "DateOfBirth                 object\n",
      "ScaleSet_ID                  int64\n",
      "ScaleSet                    object\n",
      "AssessmentReason            object\n",
      "Language                    object\n",
      "LegalStatus                 object\n",
      "CustodyStatus               object\n",
      "MaritalStatus               object\n",
      "Screening_Date              object\n",
      "RecSupervisionLevel          int64\n",
      "RecSupervisionLevelText     object\n",
      "Scale_ID                     int64\n",
      "DisplayText                 object\n",
      "RawScore                   float64\n",
      "DecileScore                  int64\n",
      "ScoreText                   object\n",
      "AssessmentType              object\n",
      "IsCompleted                  int64\n",
      "IsDeleted                    int64\n",
      "dtype: object\n"
     ]
    }
   ],
   "source": [
    "print(data.dtypes)"
   ]
  },
  {
   "cell_type": "code",
   "execution_count": 7,
   "id": "dbb97cdc",
   "metadata": {},
   "outputs": [
    {
     "name": "stdout",
     "output_type": "stream",
     "text": [
      "Person_ID                      0\n",
      "AssessmentID                   0\n",
      "Case_ID                        0\n",
      "Agency_Text                    0\n",
      "LastName                       0\n",
      "FirstName                      0\n",
      "MiddleName                 45219\n",
      "Sex_Code_Text                  0\n",
      "Ethnic_Code_Text               0\n",
      "DateOfBirth                    0\n",
      "ScaleSet_ID                    0\n",
      "ScaleSet                       0\n",
      "AssessmentReason               0\n",
      "Language                       0\n",
      "LegalStatus                    0\n",
      "CustodyStatus                  0\n",
      "MaritalStatus                  0\n",
      "Screening_Date                 0\n",
      "RecSupervisionLevel            0\n",
      "RecSupervisionLevelText        0\n",
      "Scale_ID                       0\n",
      "DisplayText                    0\n",
      "RawScore                       0\n",
      "DecileScore                    0\n",
      "ScoreText                     45\n",
      "AssessmentType                 0\n",
      "IsCompleted                    0\n",
      "IsDeleted                      0\n",
      "dtype: int64\n"
     ]
    }
   ],
   "source": [
    "print(data.isna().sum())"
   ]
  },
  {
   "cell_type": "markdown",
   "id": "c101ab57",
   "metadata": {},
   "source": [
    "most don't have middle name so that can be removed"
   ]
  },
  {
   "cell_type": "code",
   "execution_count": 8,
   "id": "5f446a38",
   "metadata": {},
   "outputs": [],
   "source": [
    "remove = [\"FirstName\", \"MiddleName\", \"LastName\"]"
   ]
  },
  {
   "cell_type": "code",
   "execution_count": 9,
   "id": "d100dc77",
   "metadata": {},
   "outputs": [
    {
     "name": "stdout",
     "output_type": "stream",
     "text": [
      "IsDeleted\n",
      "0    60843\n",
      "Name: count, dtype: int64\n",
      "IsCompleted\n",
      "1    60843\n",
      "Name: count, dtype: int64\n"
     ]
    }
   ],
   "source": [
    "print(data[\"IsDeleted\"].value_counts())\n",
    "print(data[\"IsCompleted\"].value_counts())"
   ]
  },
  {
   "cell_type": "markdown",
   "id": "988d05f0",
   "metadata": {},
   "source": [
    "Always 0 and 1 respectively, can delete"
   ]
  },
  {
   "cell_type": "code",
   "execution_count": 10,
   "id": "7ea2c274",
   "metadata": {},
   "outputs": [],
   "source": [
    "remove.extend([\"IsDeleted\", \"IsCompleted\"])"
   ]
  },
  {
   "cell_type": "code",
   "execution_count": 11,
   "id": "dcbd9320",
   "metadata": {},
   "outputs": [
    {
     "name": "stdout",
     "output_type": "stream",
     "text": [
      "AssessmentReason\n",
      "Intake    60843\n",
      "Name: count, dtype: int64\n"
     ]
    }
   ],
   "source": [
    "print(data[\"AssessmentReason\"].value_counts())"
   ]
  },
  {
   "cell_type": "markdown",
   "id": "cebe9765",
   "metadata": {},
   "source": [
    "All Intake, can delete"
   ]
  },
  {
   "cell_type": "code",
   "execution_count": 12,
   "id": "cd7e6b07",
   "metadata": {},
   "outputs": [],
   "source": [
    "remove.append(\"AssessmentReason\")"
   ]
  },
  {
   "cell_type": "code",
   "execution_count": 13,
   "id": "921fcee3",
   "metadata": {},
   "outputs": [
    {
     "name": "stdout",
     "output_type": "stream",
     "text": [
      "ScaleSet_ID\n",
      "22    58647\n",
      "17     2196\n",
      "Name: count, dtype: int64\n",
      "ScaleSet\n",
      "Risk and Prescreen    58647\n",
      "All Scales             2196\n",
      "Name: count, dtype: int64\n"
     ]
    }
   ],
   "source": [
    "print(data[\"ScaleSet_ID\"].value_counts())\n",
    "print(data[\"ScaleSet\"].value_counts())"
   ]
  },
  {
   "cell_type": "markdown",
   "id": "7d0a51ff",
   "metadata": {},
   "source": [
    "can get rid of scale set, keep ID for numerical reasons"
   ]
  },
  {
   "cell_type": "code",
   "execution_count": 14,
   "id": "f5bc91d1",
   "metadata": {},
   "outputs": [],
   "source": [
    "remove.append(\"ScaleSet\")"
   ]
  },
  {
   "cell_type": "code",
   "execution_count": 15,
   "id": "86b47257",
   "metadata": {},
   "outputs": [],
   "source": [
    "scaleSetDict = dict(zip(data[\"ScaleSet\"].unique(), data[\"ScaleSet_ID\"].unique()))"
   ]
  },
  {
   "cell_type": "code",
   "execution_count": 16,
   "id": "3d40ccce",
   "metadata": {},
   "outputs": [
    {
     "name": "stdout",
     "output_type": "stream",
     "text": [
      "RecSupervisionLevelText\n",
      "Low                                   38472\n",
      "Medium                                10476\n",
      "Medium with Override Consideration     7827\n",
      "High                                   4068\n",
      "Name: count, dtype: int64\n",
      "RecSupervisionLevel\n",
      "1    38472\n",
      "2    10476\n",
      "3     7827\n",
      "4     4068\n",
      "Name: count, dtype: int64\n"
     ]
    }
   ],
   "source": [
    "print(data[\"RecSupervisionLevelText\"].value_counts())\n",
    "print(data[\"RecSupervisionLevel\"].value_counts())"
   ]
  },
  {
   "cell_type": "markdown",
   "id": "9293ea23",
   "metadata": {},
   "source": [
    "Can get rid of text, turn this into dict for later analysis"
   ]
  },
  {
   "cell_type": "code",
   "execution_count": 17,
   "id": "0c86c670",
   "metadata": {},
   "outputs": [],
   "source": [
    "remove.append(\"RecSupervisionLevelText\")"
   ]
  },
  {
   "cell_type": "code",
   "execution_count": 18,
   "id": "f2478d1d",
   "metadata": {},
   "outputs": [],
   "source": [
    "supervisionDict = dict(zip(data[\"RecSupervisionLevelText\"].unique(), data[\"RecSupervisionLevel\"].unique()))"
   ]
  },
  {
   "cell_type": "code",
   "execution_count": 19,
   "id": "12f9607a",
   "metadata": {},
   "outputs": [
    {
     "name": "stdout",
     "output_type": "stream",
     "text": [
      "DisplayText\n",
      "Risk of Violence             20281\n",
      "Risk of Recidivism           20281\n",
      "Risk of Failure to Appear    20281\n",
      "Name: count, dtype: int64\n"
     ]
    }
   ],
   "source": [
    "print(data[\"DisplayText\"].value_counts())"
   ]
  },
  {
   "cell_type": "code",
   "execution_count": 20,
   "id": "a722d8dd",
   "metadata": {},
   "outputs": [
    {
     "name": "stdout",
     "output_type": "stream",
     "text": [
      "Scale_ID\n",
      "7     20281\n",
      "8     20281\n",
      "18    20281\n",
      "Name: count, dtype: int64\n"
     ]
    }
   ],
   "source": [
    "print(data[\"Scale_ID\"].value_counts())"
   ]
  },
  {
   "cell_type": "markdown",
   "id": "b97ec707",
   "metadata": {},
   "source": [
    "Turn into dict, get rid of text"
   ]
  },
  {
   "cell_type": "code",
   "execution_count": 21,
   "id": "4da3947f",
   "metadata": {},
   "outputs": [],
   "source": [
    "displayScaleIDDict = dict(zip(data[\"DisplayText\"].unique(), data[\"Scale_ID\"].unique()))"
   ]
  },
  {
   "cell_type": "code",
   "execution_count": 22,
   "id": "bb971675",
   "metadata": {},
   "outputs": [],
   "source": [
    "remove.append(\"DisplayText\")"
   ]
  },
  {
   "cell_type": "code",
   "execution_count": 23,
   "id": "02d98b77",
   "metadata": {},
   "outputs": [
    {
     "name": "stdout",
     "output_type": "stream",
     "text": [
      "Agency_Text\n",
      "PRETRIAL          41100\n",
      "Probation         19056\n",
      "DRRD                564\n",
      "Broward County      123\n",
      "Name: count, dtype: int64 \n",
      "\n",
      "LegalStatus\n",
      "Pretrial               37578\n",
      "Post Sentence          18333\n",
      "Other                   4356\n",
      "Conditional Release      420\n",
      "Probation Violator       126\n",
      "Parole Violator           18\n",
      "Deferred Sentencing       12\n",
      "Name: count, dtype: int64 \n",
      "\n",
      "CustodyStatus\n",
      "Jail Inmate            30129\n",
      "Probation              22968\n",
      "Pretrial Defendant      7644\n",
      "Residential Program       66\n",
      "Parole                    21\n",
      "Prison Inmate             15\n",
      "Name: count, dtype: int64 \n",
      "\n",
      "MaritalStatus\n",
      "Single               45126\n",
      "Married               8172\n",
      "Divorced              3879\n",
      "Separated             1803\n",
      "Significant Other     1260\n",
      "Widowed                390\n",
      "Unknown                213\n",
      "Name: count, dtype: int64 \n",
      "\n"
     ]
    }
   ],
   "source": [
    "print(data[\"Agency_Text\"].value_counts(), \"\\n\")\n",
    "print(data[\"LegalStatus\"].value_counts(), \"\\n\")\n",
    "print(data[\"CustodyStatus\"].value_counts(), \"\\n\")\n",
    "print(data[\"MaritalStatus\"].value_counts(), \"\\n\")"
   ]
  },
  {
   "cell_type": "markdown",
   "id": "6fb65bf4",
   "metadata": {},
   "source": [
    "Dict (text, value) possible use in model"
   ]
  },
  {
   "cell_type": "code",
   "execution_count": 24,
   "id": "9acee1c7",
   "metadata": {},
   "outputs": [
    {
     "name": "stdout",
     "output_type": "stream",
     "text": [
      "Sex_Code_Text\n",
      "Male      47514\n",
      "Female    13329\n",
      "Name: count, dtype: int64 \n",
      "\n",
      "Ethnic_Code_Text\n",
      "African-American    27018\n",
      "Caucasian           21783\n",
      "Hispanic             8742\n",
      "Other                2592\n",
      "Asian                 324\n",
      "Native American       219\n",
      "Arabic                 75\n",
      "African-Am             51\n",
      "Oriental               39\n",
      "Name: count, dtype: int64 \n",
      "\n"
     ]
    }
   ],
   "source": [
    "print(data[\"Sex_Code_Text\"].value_counts(), \"\\n\")\n",
    "print(data[\"Ethnic_Code_Text\"].value_counts(), \"\\n\")"
   ]
  },
  {
   "cell_type": "markdown",
   "id": "a8b0be7b",
   "metadata": {},
   "source": [
    "Definitely need this to test bias, can turn into numbers and keep in model"
   ]
  },
  {
   "cell_type": "code",
   "execution_count": 25,
   "id": "1e5281f8",
   "metadata": {
    "scrolled": true
   },
   "outputs": [
    {
     "name": "stdout",
     "output_type": "stream",
     "text": [
      "[0 1]\n",
      "['Male' 'Female'] \n",
      "\n",
      "{'Male': 0, 'Female': 1}\n",
      "Sex_Code_Text\n",
      "0    47514\n",
      "1    13329\n",
      "Name: count, dtype: int64\n",
      "Sex_Code_Text\n",
      "Male      47514\n",
      "Female    13329\n",
      "Name: count, dtype: int64\n"
     ]
    }
   ],
   "source": [
    "print(np.arange(0, data[\"Sex_Code_Text\"].unique().size, 1))\n",
    "print(data[\"Sex_Code_Text\"].unique(), \"\\n\")\n",
    "genderDict = dict(zip(data[\"Sex_Code_Text\"].unique(), np.arange(0, data[\"Sex_Code_Text\"].unique().size, 1)))\n",
    "print(genderDict)\n",
    "print(data[\"Sex_Code_Text\"].map(genderDict).value_counts())\n",
    "print(data[\"Sex_Code_Text\"].value_counts())"
   ]
  },
  {
   "cell_type": "code",
   "execution_count": 26,
   "id": "bd08a5d2",
   "metadata": {},
   "outputs": [],
   "source": [
    "data_aequitas = data.copy()"
   ]
  },
  {
   "cell_type": "code",
   "execution_count": 27,
   "id": "446dc316",
   "metadata": {},
   "outputs": [],
   "source": [
    "def categoricalToNumber(series: pd.Series):\n",
    "    \"\"\"\n",
    "    Turns the given pd.Series with categorical or string values into a series with values of 0, 1, ...\n",
    "    Returns the integer series and the map associated with the series for later analysis\n",
    "    \"\"\"\n",
    "    mapDict = dict(zip(series.unique(), np.arange(0, series.unique().size, 1))) # key is series values, value is integer 0 to n-1\n",
    "    mapped = series.map(mapDict, na_action='ignore') # map dict to series, ignore null values\n",
    "    return mapped, mapDict"
   ]
  },
  {
   "cell_type": "code",
   "execution_count": 28,
   "id": "058d1028",
   "metadata": {},
   "outputs": [],
   "source": [
    "genderData, genderDict = categoricalToNumber(data[\"Sex_Code_Text\"])"
   ]
  },
  {
   "cell_type": "code",
   "execution_count": 29,
   "id": "b279ed51",
   "metadata": {},
   "outputs": [
    {
     "name": "stdout",
     "output_type": "stream",
     "text": [
      "{'Male': 0, 'Female': 1}\n"
     ]
    }
   ],
   "source": [
    "data[\"Sex_Code_Text\"] = genderData\n",
    "data_aequitas[\"Sex_Code_Text\"] = genderData\n",
    "print(genderDict)"
   ]
  },
  {
   "cell_type": "code",
   "execution_count": 30,
   "id": "1236189a",
   "metadata": {},
   "outputs": [
    {
     "name": "stdout",
     "output_type": "stream",
     "text": [
      "{'PRETRIAL': 0, 'Probation': 1, 'DRRD': 2, 'Broward County': 3}\n"
     ]
    }
   ],
   "source": [
    "# Rest of categorical\n",
    "agencyData, agencyDict = categoricalToNumber(data[\"Agency_Text\"])\n",
    "data[\"Agency_Text\"] = agencyData\n",
    "data_aequitas[\"Agency_Text\"] = agencyData\n",
    "print(agencyDict)"
   ]
  },
  {
   "cell_type": "code",
   "execution_count": 31,
   "id": "018bf0c3",
   "metadata": {},
   "outputs": [
    {
     "name": "stdout",
     "output_type": "stream",
     "text": [
      "{'Pretrial': 0, 'Post Sentence': 1, 'Conditional Release': 2, 'Other': 3, 'Probation Violator': 4, 'Parole Violator': 5, 'Deferred Sentencing': 6}\n"
     ]
    }
   ],
   "source": [
    "legalData, legalDict = categoricalToNumber(data[\"LegalStatus\"])\n",
    "data[\"LegalStatus\"] = legalData\n",
    "data_aequitas[\"LegalStatus\"] = legalData\n",
    "print(legalDict)"
   ]
  },
  {
   "cell_type": "code",
   "execution_count": 32,
   "id": "762a6584",
   "metadata": {},
   "outputs": [
    {
     "name": "stdout",
     "output_type": "stream",
     "text": [
      "{'Jail Inmate': 0, 'Probation': 1, 'Pretrial Defendant': 2, 'Residential Program': 3, 'Prison Inmate': 4, 'Parole': 5}\n"
     ]
    }
   ],
   "source": [
    "custodyData, custodyDict = categoricalToNumber(data[\"CustodyStatus\"])\n",
    "data[\"CustodyStatus\"] = custodyData\n",
    "data_aequitas[\"CustodyStatus\"] = custodyData\n",
    "print(custodyDict)"
   ]
  },
  {
   "cell_type": "code",
   "execution_count": 33,
   "id": "59e817eb",
   "metadata": {
    "scrolled": false
   },
   "outputs": [
    {
     "name": "stdout",
     "output_type": "stream",
     "text": [
      "{'Single': 0, 'Married': 1, 'Significant Other': 2, 'Divorced': 3, 'Separated': 4, 'Widowed': 5, 'Unknown': 6}\n"
     ]
    }
   ],
   "source": [
    "maritalData, maritalDict = categoricalToNumber(data[\"MaritalStatus\"])\n",
    "data[\"MaritalStatus\"] = maritalData\n",
    "data_aequitas[\"MaritalStatus\"] = maritalData\n",
    "print(maritalDict)"
   ]
  },
  {
   "cell_type": "code",
   "execution_count": 34,
   "id": "9427c7b7",
   "metadata": {},
   "outputs": [
    {
     "name": "stdout",
     "output_type": "stream",
     "text": [
      "{'Caucasian': 0, 'African-American': 1, 'Hispanic': 2, 'Other': 3, 'Asian': 4, 'African-Am': 5, 'Native American': 6, 'Oriental': 7, 'Arabic': 8}\n"
     ]
    }
   ],
   "source": [
    "# leave ethnic data categorical for aequitas model\n",
    "ethnicData, ethnicDict = categoricalToNumber(data[\"Ethnic_Code_Text\"])\n",
    "data[\"Ethnic_Code_Text\"] = ethnicData\n",
    "print(ethnicDict)"
   ]
  },
  {
   "cell_type": "code",
   "execution_count": 35,
   "id": "facb20b3",
   "metadata": {
    "scrolled": false
   },
   "outputs": [
    {
     "data": {
      "text/html": [
       "<div>\n",
       "<style scoped>\n",
       "    .dataframe tbody tr th:only-of-type {\n",
       "        vertical-align: middle;\n",
       "    }\n",
       "\n",
       "    .dataframe tbody tr th {\n",
       "        vertical-align: top;\n",
       "    }\n",
       "\n",
       "    .dataframe thead th {\n",
       "        text-align: right;\n",
       "    }\n",
       "</style>\n",
       "<table border=\"1\" class=\"dataframe\">\n",
       "  <thead>\n",
       "    <tr style=\"text-align: right;\">\n",
       "      <th></th>\n",
       "      <th>Person_ID</th>\n",
       "      <th>AssessmentID</th>\n",
       "      <th>Case_ID</th>\n",
       "      <th>Agency_Text</th>\n",
       "      <th>LastName</th>\n",
       "      <th>FirstName</th>\n",
       "      <th>MiddleName</th>\n",
       "      <th>Sex_Code_Text</th>\n",
       "      <th>Ethnic_Code_Text</th>\n",
       "      <th>DateOfBirth</th>\n",
       "      <th>ScaleSet_ID</th>\n",
       "      <th>ScaleSet</th>\n",
       "      <th>AssessmentReason</th>\n",
       "      <th>Language</th>\n",
       "      <th>LegalStatus</th>\n",
       "      <th>CustodyStatus</th>\n",
       "      <th>MaritalStatus</th>\n",
       "      <th>Screening_Date</th>\n",
       "      <th>RecSupervisionLevel</th>\n",
       "      <th>RecSupervisionLevelText</th>\n",
       "      <th>Scale_ID</th>\n",
       "      <th>DisplayText</th>\n",
       "      <th>RawScore</th>\n",
       "      <th>DecileScore</th>\n",
       "      <th>ScoreText</th>\n",
       "      <th>AssessmentType</th>\n",
       "      <th>IsCompleted</th>\n",
       "      <th>IsDeleted</th>\n",
       "    </tr>\n",
       "  </thead>\n",
       "  <tbody>\n",
       "    <tr>\n",
       "      <th>0</th>\n",
       "      <td>50844</td>\n",
       "      <td>57167</td>\n",
       "      <td>51950</td>\n",
       "      <td>0</td>\n",
       "      <td>Fisher</td>\n",
       "      <td>Kevin</td>\n",
       "      <td>NaN</td>\n",
       "      <td>0</td>\n",
       "      <td>0</td>\n",
       "      <td>12/05/92</td>\n",
       "      <td>22</td>\n",
       "      <td>Risk and Prescreen</td>\n",
       "      <td>Intake</td>\n",
       "      <td>English</td>\n",
       "      <td>0</td>\n",
       "      <td>0</td>\n",
       "      <td>0</td>\n",
       "      <td>1/1/13 0:00</td>\n",
       "      <td>1</td>\n",
       "      <td>Low</td>\n",
       "      <td>7</td>\n",
       "      <td>Risk of Violence</td>\n",
       "      <td>-2.08</td>\n",
       "      <td>4</td>\n",
       "      <td>Low</td>\n",
       "      <td>New</td>\n",
       "      <td>1</td>\n",
       "      <td>0</td>\n",
       "    </tr>\n",
       "    <tr>\n",
       "      <th>1</th>\n",
       "      <td>50844</td>\n",
       "      <td>57167</td>\n",
       "      <td>51950</td>\n",
       "      <td>0</td>\n",
       "      <td>Fisher</td>\n",
       "      <td>Kevin</td>\n",
       "      <td>NaN</td>\n",
       "      <td>0</td>\n",
       "      <td>0</td>\n",
       "      <td>12/05/92</td>\n",
       "      <td>22</td>\n",
       "      <td>Risk and Prescreen</td>\n",
       "      <td>Intake</td>\n",
       "      <td>English</td>\n",
       "      <td>0</td>\n",
       "      <td>0</td>\n",
       "      <td>0</td>\n",
       "      <td>1/1/13 0:00</td>\n",
       "      <td>1</td>\n",
       "      <td>Low</td>\n",
       "      <td>8</td>\n",
       "      <td>Risk of Recidivism</td>\n",
       "      <td>-1.06</td>\n",
       "      <td>2</td>\n",
       "      <td>Low</td>\n",
       "      <td>New</td>\n",
       "      <td>1</td>\n",
       "      <td>0</td>\n",
       "    </tr>\n",
       "    <tr>\n",
       "      <th>2</th>\n",
       "      <td>50844</td>\n",
       "      <td>57167</td>\n",
       "      <td>51950</td>\n",
       "      <td>0</td>\n",
       "      <td>Fisher</td>\n",
       "      <td>Kevin</td>\n",
       "      <td>NaN</td>\n",
       "      <td>0</td>\n",
       "      <td>0</td>\n",
       "      <td>12/05/92</td>\n",
       "      <td>22</td>\n",
       "      <td>Risk and Prescreen</td>\n",
       "      <td>Intake</td>\n",
       "      <td>English</td>\n",
       "      <td>0</td>\n",
       "      <td>0</td>\n",
       "      <td>0</td>\n",
       "      <td>1/1/13 0:00</td>\n",
       "      <td>1</td>\n",
       "      <td>Low</td>\n",
       "      <td>18</td>\n",
       "      <td>Risk of Failure to Appear</td>\n",
       "      <td>15.00</td>\n",
       "      <td>1</td>\n",
       "      <td>Low</td>\n",
       "      <td>New</td>\n",
       "      <td>1</td>\n",
       "      <td>0</td>\n",
       "    </tr>\n",
       "    <tr>\n",
       "      <th>3</th>\n",
       "      <td>50848</td>\n",
       "      <td>57174</td>\n",
       "      <td>51956</td>\n",
       "      <td>0</td>\n",
       "      <td>KENDALL</td>\n",
       "      <td>KEVIN</td>\n",
       "      <td>NaN</td>\n",
       "      <td>0</td>\n",
       "      <td>0</td>\n",
       "      <td>09/16/84</td>\n",
       "      <td>22</td>\n",
       "      <td>Risk and Prescreen</td>\n",
       "      <td>Intake</td>\n",
       "      <td>English</td>\n",
       "      <td>0</td>\n",
       "      <td>0</td>\n",
       "      <td>1</td>\n",
       "      <td>1/1/13 0:00</td>\n",
       "      <td>1</td>\n",
       "      <td>Low</td>\n",
       "      <td>7</td>\n",
       "      <td>Risk of Violence</td>\n",
       "      <td>-2.84</td>\n",
       "      <td>2</td>\n",
       "      <td>Low</td>\n",
       "      <td>New</td>\n",
       "      <td>1</td>\n",
       "      <td>0</td>\n",
       "    </tr>\n",
       "    <tr>\n",
       "      <th>4</th>\n",
       "      <td>50848</td>\n",
       "      <td>57174</td>\n",
       "      <td>51956</td>\n",
       "      <td>0</td>\n",
       "      <td>KENDALL</td>\n",
       "      <td>KEVIN</td>\n",
       "      <td>NaN</td>\n",
       "      <td>0</td>\n",
       "      <td>0</td>\n",
       "      <td>09/16/84</td>\n",
       "      <td>22</td>\n",
       "      <td>Risk and Prescreen</td>\n",
       "      <td>Intake</td>\n",
       "      <td>English</td>\n",
       "      <td>0</td>\n",
       "      <td>0</td>\n",
       "      <td>1</td>\n",
       "      <td>1/1/13 0:00</td>\n",
       "      <td>1</td>\n",
       "      <td>Low</td>\n",
       "      <td>8</td>\n",
       "      <td>Risk of Recidivism</td>\n",
       "      <td>-1.50</td>\n",
       "      <td>1</td>\n",
       "      <td>Low</td>\n",
       "      <td>New</td>\n",
       "      <td>1</td>\n",
       "      <td>0</td>\n",
       "    </tr>\n",
       "  </tbody>\n",
       "</table>\n",
       "</div>"
      ],
      "text/plain": [
       "   Person_ID  AssessmentID  Case_ID  Agency_Text LastName FirstName  \\\n",
       "0      50844         57167    51950            0   Fisher     Kevin   \n",
       "1      50844         57167    51950            0   Fisher     Kevin   \n",
       "2      50844         57167    51950            0   Fisher     Kevin   \n",
       "3      50848         57174    51956            0  KENDALL     KEVIN   \n",
       "4      50848         57174    51956            0  KENDALL     KEVIN   \n",
       "\n",
       "  MiddleName  Sex_Code_Text  Ethnic_Code_Text DateOfBirth  ScaleSet_ID  \\\n",
       "0        NaN              0                 0    12/05/92           22   \n",
       "1        NaN              0                 0    12/05/92           22   \n",
       "2        NaN              0                 0    12/05/92           22   \n",
       "3        NaN              0                 0    09/16/84           22   \n",
       "4        NaN              0                 0    09/16/84           22   \n",
       "\n",
       "             ScaleSet AssessmentReason Language  LegalStatus  CustodyStatus  \\\n",
       "0  Risk and Prescreen           Intake  English            0              0   \n",
       "1  Risk and Prescreen           Intake  English            0              0   \n",
       "2  Risk and Prescreen           Intake  English            0              0   \n",
       "3  Risk and Prescreen           Intake  English            0              0   \n",
       "4  Risk and Prescreen           Intake  English            0              0   \n",
       "\n",
       "   MaritalStatus Screening_Date  RecSupervisionLevel RecSupervisionLevelText  \\\n",
       "0              0    1/1/13 0:00                    1                     Low   \n",
       "1              0    1/1/13 0:00                    1                     Low   \n",
       "2              0    1/1/13 0:00                    1                     Low   \n",
       "3              1    1/1/13 0:00                    1                     Low   \n",
       "4              1    1/1/13 0:00                    1                     Low   \n",
       "\n",
       "   Scale_ID                DisplayText  RawScore  DecileScore ScoreText  \\\n",
       "0         7           Risk of Violence     -2.08            4       Low   \n",
       "1         8         Risk of Recidivism     -1.06            2       Low   \n",
       "2        18  Risk of Failure to Appear     15.00            1       Low   \n",
       "3         7           Risk of Violence     -2.84            2       Low   \n",
       "4         8         Risk of Recidivism     -1.50            1       Low   \n",
       "\n",
       "  AssessmentType  IsCompleted  IsDeleted  \n",
       "0            New            1          0  \n",
       "1            New            1          0  \n",
       "2            New            1          0  \n",
       "3            New            1          0  \n",
       "4            New            1          0  "
      ]
     },
     "execution_count": 35,
     "metadata": {},
     "output_type": "execute_result"
    }
   ],
   "source": [
    "data.head()"
   ]
  },
  {
   "cell_type": "code",
   "execution_count": 36,
   "id": "8303e9f9",
   "metadata": {
    "scrolled": true
   },
   "outputs": [
    {
     "data": {
      "text/html": [
       "<div>\n",
       "<style scoped>\n",
       "    .dataframe tbody tr th:only-of-type {\n",
       "        vertical-align: middle;\n",
       "    }\n",
       "\n",
       "    .dataframe tbody tr th {\n",
       "        vertical-align: top;\n",
       "    }\n",
       "\n",
       "    .dataframe thead th {\n",
       "        text-align: right;\n",
       "    }\n",
       "</style>\n",
       "<table border=\"1\" class=\"dataframe\">\n",
       "  <thead>\n",
       "    <tr style=\"text-align: right;\">\n",
       "      <th></th>\n",
       "      <th>Person_ID</th>\n",
       "      <th>AssessmentID</th>\n",
       "      <th>Case_ID</th>\n",
       "      <th>Agency_Text</th>\n",
       "      <th>LastName</th>\n",
       "      <th>FirstName</th>\n",
       "      <th>MiddleName</th>\n",
       "      <th>Sex_Code_Text</th>\n",
       "      <th>Ethnic_Code_Text</th>\n",
       "      <th>DateOfBirth</th>\n",
       "      <th>ScaleSet_ID</th>\n",
       "      <th>ScaleSet</th>\n",
       "      <th>AssessmentReason</th>\n",
       "      <th>Language</th>\n",
       "      <th>LegalStatus</th>\n",
       "      <th>CustodyStatus</th>\n",
       "      <th>MaritalStatus</th>\n",
       "      <th>Screening_Date</th>\n",
       "      <th>RecSupervisionLevel</th>\n",
       "      <th>RecSupervisionLevelText</th>\n",
       "      <th>Scale_ID</th>\n",
       "      <th>DisplayText</th>\n",
       "      <th>RawScore</th>\n",
       "      <th>DecileScore</th>\n",
       "      <th>ScoreText</th>\n",
       "      <th>AssessmentType</th>\n",
       "      <th>IsCompleted</th>\n",
       "      <th>IsDeleted</th>\n",
       "    </tr>\n",
       "  </thead>\n",
       "  <tbody>\n",
       "    <tr>\n",
       "      <th>0</th>\n",
       "      <td>50844</td>\n",
       "      <td>57167</td>\n",
       "      <td>51950</td>\n",
       "      <td>0</td>\n",
       "      <td>Fisher</td>\n",
       "      <td>Kevin</td>\n",
       "      <td>NaN</td>\n",
       "      <td>0</td>\n",
       "      <td>Caucasian</td>\n",
       "      <td>12/05/92</td>\n",
       "      <td>22</td>\n",
       "      <td>Risk and Prescreen</td>\n",
       "      <td>Intake</td>\n",
       "      <td>English</td>\n",
       "      <td>0</td>\n",
       "      <td>0</td>\n",
       "      <td>0</td>\n",
       "      <td>1/1/13 0:00</td>\n",
       "      <td>1</td>\n",
       "      <td>Low</td>\n",
       "      <td>7</td>\n",
       "      <td>Risk of Violence</td>\n",
       "      <td>-2.08</td>\n",
       "      <td>4</td>\n",
       "      <td>Low</td>\n",
       "      <td>New</td>\n",
       "      <td>1</td>\n",
       "      <td>0</td>\n",
       "    </tr>\n",
       "    <tr>\n",
       "      <th>1</th>\n",
       "      <td>50844</td>\n",
       "      <td>57167</td>\n",
       "      <td>51950</td>\n",
       "      <td>0</td>\n",
       "      <td>Fisher</td>\n",
       "      <td>Kevin</td>\n",
       "      <td>NaN</td>\n",
       "      <td>0</td>\n",
       "      <td>Caucasian</td>\n",
       "      <td>12/05/92</td>\n",
       "      <td>22</td>\n",
       "      <td>Risk and Prescreen</td>\n",
       "      <td>Intake</td>\n",
       "      <td>English</td>\n",
       "      <td>0</td>\n",
       "      <td>0</td>\n",
       "      <td>0</td>\n",
       "      <td>1/1/13 0:00</td>\n",
       "      <td>1</td>\n",
       "      <td>Low</td>\n",
       "      <td>8</td>\n",
       "      <td>Risk of Recidivism</td>\n",
       "      <td>-1.06</td>\n",
       "      <td>2</td>\n",
       "      <td>Low</td>\n",
       "      <td>New</td>\n",
       "      <td>1</td>\n",
       "      <td>0</td>\n",
       "    </tr>\n",
       "    <tr>\n",
       "      <th>2</th>\n",
       "      <td>50844</td>\n",
       "      <td>57167</td>\n",
       "      <td>51950</td>\n",
       "      <td>0</td>\n",
       "      <td>Fisher</td>\n",
       "      <td>Kevin</td>\n",
       "      <td>NaN</td>\n",
       "      <td>0</td>\n",
       "      <td>Caucasian</td>\n",
       "      <td>12/05/92</td>\n",
       "      <td>22</td>\n",
       "      <td>Risk and Prescreen</td>\n",
       "      <td>Intake</td>\n",
       "      <td>English</td>\n",
       "      <td>0</td>\n",
       "      <td>0</td>\n",
       "      <td>0</td>\n",
       "      <td>1/1/13 0:00</td>\n",
       "      <td>1</td>\n",
       "      <td>Low</td>\n",
       "      <td>18</td>\n",
       "      <td>Risk of Failure to Appear</td>\n",
       "      <td>15.00</td>\n",
       "      <td>1</td>\n",
       "      <td>Low</td>\n",
       "      <td>New</td>\n",
       "      <td>1</td>\n",
       "      <td>0</td>\n",
       "    </tr>\n",
       "    <tr>\n",
       "      <th>3</th>\n",
       "      <td>50848</td>\n",
       "      <td>57174</td>\n",
       "      <td>51956</td>\n",
       "      <td>0</td>\n",
       "      <td>KENDALL</td>\n",
       "      <td>KEVIN</td>\n",
       "      <td>NaN</td>\n",
       "      <td>0</td>\n",
       "      <td>Caucasian</td>\n",
       "      <td>09/16/84</td>\n",
       "      <td>22</td>\n",
       "      <td>Risk and Prescreen</td>\n",
       "      <td>Intake</td>\n",
       "      <td>English</td>\n",
       "      <td>0</td>\n",
       "      <td>0</td>\n",
       "      <td>1</td>\n",
       "      <td>1/1/13 0:00</td>\n",
       "      <td>1</td>\n",
       "      <td>Low</td>\n",
       "      <td>7</td>\n",
       "      <td>Risk of Violence</td>\n",
       "      <td>-2.84</td>\n",
       "      <td>2</td>\n",
       "      <td>Low</td>\n",
       "      <td>New</td>\n",
       "      <td>1</td>\n",
       "      <td>0</td>\n",
       "    </tr>\n",
       "    <tr>\n",
       "      <th>4</th>\n",
       "      <td>50848</td>\n",
       "      <td>57174</td>\n",
       "      <td>51956</td>\n",
       "      <td>0</td>\n",
       "      <td>KENDALL</td>\n",
       "      <td>KEVIN</td>\n",
       "      <td>NaN</td>\n",
       "      <td>0</td>\n",
       "      <td>Caucasian</td>\n",
       "      <td>09/16/84</td>\n",
       "      <td>22</td>\n",
       "      <td>Risk and Prescreen</td>\n",
       "      <td>Intake</td>\n",
       "      <td>English</td>\n",
       "      <td>0</td>\n",
       "      <td>0</td>\n",
       "      <td>1</td>\n",
       "      <td>1/1/13 0:00</td>\n",
       "      <td>1</td>\n",
       "      <td>Low</td>\n",
       "      <td>8</td>\n",
       "      <td>Risk of Recidivism</td>\n",
       "      <td>-1.50</td>\n",
       "      <td>1</td>\n",
       "      <td>Low</td>\n",
       "      <td>New</td>\n",
       "      <td>1</td>\n",
       "      <td>0</td>\n",
       "    </tr>\n",
       "  </tbody>\n",
       "</table>\n",
       "</div>"
      ],
      "text/plain": [
       "   Person_ID  AssessmentID  Case_ID  Agency_Text LastName FirstName  \\\n",
       "0      50844         57167    51950            0   Fisher     Kevin   \n",
       "1      50844         57167    51950            0   Fisher     Kevin   \n",
       "2      50844         57167    51950            0   Fisher     Kevin   \n",
       "3      50848         57174    51956            0  KENDALL     KEVIN   \n",
       "4      50848         57174    51956            0  KENDALL     KEVIN   \n",
       "\n",
       "  MiddleName  Sex_Code_Text Ethnic_Code_Text DateOfBirth  ScaleSet_ID  \\\n",
       "0        NaN              0        Caucasian    12/05/92           22   \n",
       "1        NaN              0        Caucasian    12/05/92           22   \n",
       "2        NaN              0        Caucasian    12/05/92           22   \n",
       "3        NaN              0        Caucasian    09/16/84           22   \n",
       "4        NaN              0        Caucasian    09/16/84           22   \n",
       "\n",
       "             ScaleSet AssessmentReason Language  LegalStatus  CustodyStatus  \\\n",
       "0  Risk and Prescreen           Intake  English            0              0   \n",
       "1  Risk and Prescreen           Intake  English            0              0   \n",
       "2  Risk and Prescreen           Intake  English            0              0   \n",
       "3  Risk and Prescreen           Intake  English            0              0   \n",
       "4  Risk and Prescreen           Intake  English            0              0   \n",
       "\n",
       "   MaritalStatus Screening_Date  RecSupervisionLevel RecSupervisionLevelText  \\\n",
       "0              0    1/1/13 0:00                    1                     Low   \n",
       "1              0    1/1/13 0:00                    1                     Low   \n",
       "2              0    1/1/13 0:00                    1                     Low   \n",
       "3              1    1/1/13 0:00                    1                     Low   \n",
       "4              1    1/1/13 0:00                    1                     Low   \n",
       "\n",
       "   Scale_ID                DisplayText  RawScore  DecileScore ScoreText  \\\n",
       "0         7           Risk of Violence     -2.08            4       Low   \n",
       "1         8         Risk of Recidivism     -1.06            2       Low   \n",
       "2        18  Risk of Failure to Appear     15.00            1       Low   \n",
       "3         7           Risk of Violence     -2.84            2       Low   \n",
       "4         8         Risk of Recidivism     -1.50            1       Low   \n",
       "\n",
       "  AssessmentType  IsCompleted  IsDeleted  \n",
       "0            New            1          0  \n",
       "1            New            1          0  \n",
       "2            New            1          0  \n",
       "3            New            1          0  \n",
       "4            New            1          0  "
      ]
     },
     "execution_count": 36,
     "metadata": {},
     "output_type": "execute_result"
    }
   ],
   "source": [
    "data_aequitas.head()"
   ]
  },
  {
   "cell_type": "code",
   "execution_count": 37,
   "id": "632832bf",
   "metadata": {},
   "outputs": [
    {
     "name": "stdout",
     "output_type": "stream",
     "text": [
      "['FirstName', 'MiddleName', 'LastName', 'IsDeleted', 'IsCompleted', 'AssessmentReason', 'ScaleSet', 'RecSupervisionLevelText', 'DisplayText']\n"
     ]
    }
   ],
   "source": [
    "print(remove)"
   ]
  },
  {
   "cell_type": "markdown",
   "id": "8ff8f4bc",
   "metadata": {},
   "source": [
    "Other columns that I don't need:\n",
    "\n",
    "Language: mostly English, don't need possible bias associated with it\n",
    "\n",
    "DateOfBirth: not focused on age, but ProPublica showed there was some bias associated with certain age groups\n",
    "\n",
    "Screening_Date: not necessary information for predicting recidivism\n",
    "\n",
    "AssessmentType: mostly new, some copy, doesn't feel like necessary information\n",
    "\n",
    "Score_Text: Already have decile score, good enough for this project"
   ]
  },
  {
   "cell_type": "code",
   "execution_count": 38,
   "id": "acea29c8",
   "metadata": {},
   "outputs": [],
   "source": [
    "remove.extend([\"DateOfBirth\", \"Language\", \"Screening_Date\", \"AssessmentType\", \"ScoreText\"])"
   ]
  },
  {
   "cell_type": "code",
   "execution_count": 39,
   "id": "e4e6cfca",
   "metadata": {},
   "outputs": [],
   "source": [
    "newData = data.drop(remove, axis=1)"
   ]
  },
  {
   "cell_type": "code",
   "execution_count": 40,
   "id": "e1a5ab70",
   "metadata": {
    "scrolled": true
   },
   "outputs": [
    {
     "data": {
      "text/html": [
       "<div>\n",
       "<style scoped>\n",
       "    .dataframe tbody tr th:only-of-type {\n",
       "        vertical-align: middle;\n",
       "    }\n",
       "\n",
       "    .dataframe tbody tr th {\n",
       "        vertical-align: top;\n",
       "    }\n",
       "\n",
       "    .dataframe thead th {\n",
       "        text-align: right;\n",
       "    }\n",
       "</style>\n",
       "<table border=\"1\" class=\"dataframe\">\n",
       "  <thead>\n",
       "    <tr style=\"text-align: right;\">\n",
       "      <th></th>\n",
       "      <th>Person_ID</th>\n",
       "      <th>AssessmentID</th>\n",
       "      <th>Case_ID</th>\n",
       "      <th>Agency_Text</th>\n",
       "      <th>Sex_Code_Text</th>\n",
       "      <th>Ethnic_Code_Text</th>\n",
       "      <th>ScaleSet_ID</th>\n",
       "      <th>LegalStatus</th>\n",
       "      <th>CustodyStatus</th>\n",
       "      <th>MaritalStatus</th>\n",
       "      <th>RecSupervisionLevel</th>\n",
       "      <th>Scale_ID</th>\n",
       "      <th>RawScore</th>\n",
       "      <th>DecileScore</th>\n",
       "    </tr>\n",
       "  </thead>\n",
       "  <tbody>\n",
       "    <tr>\n",
       "      <th>0</th>\n",
       "      <td>50844</td>\n",
       "      <td>57167</td>\n",
       "      <td>51950</td>\n",
       "      <td>0</td>\n",
       "      <td>0</td>\n",
       "      <td>0</td>\n",
       "      <td>22</td>\n",
       "      <td>0</td>\n",
       "      <td>0</td>\n",
       "      <td>0</td>\n",
       "      <td>1</td>\n",
       "      <td>7</td>\n",
       "      <td>-2.08</td>\n",
       "      <td>4</td>\n",
       "    </tr>\n",
       "    <tr>\n",
       "      <th>1</th>\n",
       "      <td>50844</td>\n",
       "      <td>57167</td>\n",
       "      <td>51950</td>\n",
       "      <td>0</td>\n",
       "      <td>0</td>\n",
       "      <td>0</td>\n",
       "      <td>22</td>\n",
       "      <td>0</td>\n",
       "      <td>0</td>\n",
       "      <td>0</td>\n",
       "      <td>1</td>\n",
       "      <td>8</td>\n",
       "      <td>-1.06</td>\n",
       "      <td>2</td>\n",
       "    </tr>\n",
       "    <tr>\n",
       "      <th>2</th>\n",
       "      <td>50844</td>\n",
       "      <td>57167</td>\n",
       "      <td>51950</td>\n",
       "      <td>0</td>\n",
       "      <td>0</td>\n",
       "      <td>0</td>\n",
       "      <td>22</td>\n",
       "      <td>0</td>\n",
       "      <td>0</td>\n",
       "      <td>0</td>\n",
       "      <td>1</td>\n",
       "      <td>18</td>\n",
       "      <td>15.00</td>\n",
       "      <td>1</td>\n",
       "    </tr>\n",
       "    <tr>\n",
       "      <th>3</th>\n",
       "      <td>50848</td>\n",
       "      <td>57174</td>\n",
       "      <td>51956</td>\n",
       "      <td>0</td>\n",
       "      <td>0</td>\n",
       "      <td>0</td>\n",
       "      <td>22</td>\n",
       "      <td>0</td>\n",
       "      <td>0</td>\n",
       "      <td>1</td>\n",
       "      <td>1</td>\n",
       "      <td>7</td>\n",
       "      <td>-2.84</td>\n",
       "      <td>2</td>\n",
       "    </tr>\n",
       "    <tr>\n",
       "      <th>4</th>\n",
       "      <td>50848</td>\n",
       "      <td>57174</td>\n",
       "      <td>51956</td>\n",
       "      <td>0</td>\n",
       "      <td>0</td>\n",
       "      <td>0</td>\n",
       "      <td>22</td>\n",
       "      <td>0</td>\n",
       "      <td>0</td>\n",
       "      <td>1</td>\n",
       "      <td>1</td>\n",
       "      <td>8</td>\n",
       "      <td>-1.50</td>\n",
       "      <td>1</td>\n",
       "    </tr>\n",
       "  </tbody>\n",
       "</table>\n",
       "</div>"
      ],
      "text/plain": [
       "   Person_ID  AssessmentID  Case_ID  Agency_Text  Sex_Code_Text  \\\n",
       "0      50844         57167    51950            0              0   \n",
       "1      50844         57167    51950            0              0   \n",
       "2      50844         57167    51950            0              0   \n",
       "3      50848         57174    51956            0              0   \n",
       "4      50848         57174    51956            0              0   \n",
       "\n",
       "   Ethnic_Code_Text  ScaleSet_ID  LegalStatus  CustodyStatus  MaritalStatus  \\\n",
       "0                 0           22            0              0              0   \n",
       "1                 0           22            0              0              0   \n",
       "2                 0           22            0              0              0   \n",
       "3                 0           22            0              0              1   \n",
       "4                 0           22            0              0              1   \n",
       "\n",
       "   RecSupervisionLevel  Scale_ID  RawScore  DecileScore  \n",
       "0                    1         7     -2.08            4  \n",
       "1                    1         8     -1.06            2  \n",
       "2                    1        18     15.00            1  \n",
       "3                    1         7     -2.84            2  \n",
       "4                    1         8     -1.50            1  "
      ]
     },
     "execution_count": 40,
     "metadata": {},
     "output_type": "execute_result"
    }
   ],
   "source": [
    "newData.head()"
   ]
  },
  {
   "cell_type": "code",
   "execution_count": 41,
   "id": "bfccb149",
   "metadata": {},
   "outputs": [],
   "source": [
    "new_aequitas = data_aequitas.drop(remove, axis=1)"
   ]
  },
  {
   "cell_type": "code",
   "execution_count": 42,
   "id": "d69b2ba9",
   "metadata": {},
   "outputs": [
    {
     "data": {
      "text/html": [
       "<div>\n",
       "<style scoped>\n",
       "    .dataframe tbody tr th:only-of-type {\n",
       "        vertical-align: middle;\n",
       "    }\n",
       "\n",
       "    .dataframe tbody tr th {\n",
       "        vertical-align: top;\n",
       "    }\n",
       "\n",
       "    .dataframe thead th {\n",
       "        text-align: right;\n",
       "    }\n",
       "</style>\n",
       "<table border=\"1\" class=\"dataframe\">\n",
       "  <thead>\n",
       "    <tr style=\"text-align: right;\">\n",
       "      <th></th>\n",
       "      <th>Person_ID</th>\n",
       "      <th>AssessmentID</th>\n",
       "      <th>Case_ID</th>\n",
       "      <th>Agency_Text</th>\n",
       "      <th>Sex_Code_Text</th>\n",
       "      <th>Ethnic_Code_Text</th>\n",
       "      <th>ScaleSet_ID</th>\n",
       "      <th>LegalStatus</th>\n",
       "      <th>CustodyStatus</th>\n",
       "      <th>MaritalStatus</th>\n",
       "      <th>RecSupervisionLevel</th>\n",
       "      <th>Scale_ID</th>\n",
       "      <th>RawScore</th>\n",
       "      <th>DecileScore</th>\n",
       "    </tr>\n",
       "  </thead>\n",
       "  <tbody>\n",
       "    <tr>\n",
       "      <th>0</th>\n",
       "      <td>50844</td>\n",
       "      <td>57167</td>\n",
       "      <td>51950</td>\n",
       "      <td>0</td>\n",
       "      <td>0</td>\n",
       "      <td>Caucasian</td>\n",
       "      <td>22</td>\n",
       "      <td>0</td>\n",
       "      <td>0</td>\n",
       "      <td>0</td>\n",
       "      <td>1</td>\n",
       "      <td>7</td>\n",
       "      <td>-2.08</td>\n",
       "      <td>4</td>\n",
       "    </tr>\n",
       "    <tr>\n",
       "      <th>1</th>\n",
       "      <td>50844</td>\n",
       "      <td>57167</td>\n",
       "      <td>51950</td>\n",
       "      <td>0</td>\n",
       "      <td>0</td>\n",
       "      <td>Caucasian</td>\n",
       "      <td>22</td>\n",
       "      <td>0</td>\n",
       "      <td>0</td>\n",
       "      <td>0</td>\n",
       "      <td>1</td>\n",
       "      <td>8</td>\n",
       "      <td>-1.06</td>\n",
       "      <td>2</td>\n",
       "    </tr>\n",
       "    <tr>\n",
       "      <th>2</th>\n",
       "      <td>50844</td>\n",
       "      <td>57167</td>\n",
       "      <td>51950</td>\n",
       "      <td>0</td>\n",
       "      <td>0</td>\n",
       "      <td>Caucasian</td>\n",
       "      <td>22</td>\n",
       "      <td>0</td>\n",
       "      <td>0</td>\n",
       "      <td>0</td>\n",
       "      <td>1</td>\n",
       "      <td>18</td>\n",
       "      <td>15.00</td>\n",
       "      <td>1</td>\n",
       "    </tr>\n",
       "    <tr>\n",
       "      <th>3</th>\n",
       "      <td>50848</td>\n",
       "      <td>57174</td>\n",
       "      <td>51956</td>\n",
       "      <td>0</td>\n",
       "      <td>0</td>\n",
       "      <td>Caucasian</td>\n",
       "      <td>22</td>\n",
       "      <td>0</td>\n",
       "      <td>0</td>\n",
       "      <td>1</td>\n",
       "      <td>1</td>\n",
       "      <td>7</td>\n",
       "      <td>-2.84</td>\n",
       "      <td>2</td>\n",
       "    </tr>\n",
       "    <tr>\n",
       "      <th>4</th>\n",
       "      <td>50848</td>\n",
       "      <td>57174</td>\n",
       "      <td>51956</td>\n",
       "      <td>0</td>\n",
       "      <td>0</td>\n",
       "      <td>Caucasian</td>\n",
       "      <td>22</td>\n",
       "      <td>0</td>\n",
       "      <td>0</td>\n",
       "      <td>1</td>\n",
       "      <td>1</td>\n",
       "      <td>8</td>\n",
       "      <td>-1.50</td>\n",
       "      <td>1</td>\n",
       "    </tr>\n",
       "  </tbody>\n",
       "</table>\n",
       "</div>"
      ],
      "text/plain": [
       "   Person_ID  AssessmentID  Case_ID  Agency_Text  Sex_Code_Text  \\\n",
       "0      50844         57167    51950            0              0   \n",
       "1      50844         57167    51950            0              0   \n",
       "2      50844         57167    51950            0              0   \n",
       "3      50848         57174    51956            0              0   \n",
       "4      50848         57174    51956            0              0   \n",
       "\n",
       "  Ethnic_Code_Text  ScaleSet_ID  LegalStatus  CustodyStatus  MaritalStatus  \\\n",
       "0        Caucasian           22            0              0              0   \n",
       "1        Caucasian           22            0              0              0   \n",
       "2        Caucasian           22            0              0              0   \n",
       "3        Caucasian           22            0              0              1   \n",
       "4        Caucasian           22            0              0              1   \n",
       "\n",
       "   RecSupervisionLevel  Scale_ID  RawScore  DecileScore  \n",
       "0                    1         7     -2.08            4  \n",
       "1                    1         8     -1.06            2  \n",
       "2                    1        18     15.00            1  \n",
       "3                    1         7     -2.84            2  \n",
       "4                    1         8     -1.50            1  "
      ]
     },
     "execution_count": 42,
     "metadata": {},
     "output_type": "execute_result"
    }
   ],
   "source": [
    "new_aequitas.head()"
   ]
  },
  {
   "cell_type": "markdown",
   "id": "7eecbdf5",
   "metadata": {},
   "source": [
    "Aequitas needs categorical data for sensitive attributes"
   ]
  },
  {
   "cell_type": "markdown",
   "id": "6431e34c",
   "metadata": {},
   "source": [
    "All numbers, can turn to other preprocessing"
   ]
  },
  {
   "cell_type": "code",
   "execution_count": 43,
   "id": "2be2545b",
   "metadata": {},
   "outputs": [
    {
     "name": "stdout",
     "output_type": "stream",
     "text": [
      "          Person_ID  AssessmentID       Case_ID\n",
      "count  60843.000000  60843.000000  60843.000000\n",
      "mean   53683.206154  68061.029190  60209.128149\n",
      "std    14363.648515   7320.208226   9638.501654\n",
      "min      656.000000    649.000000    350.000000\n",
      "25%    52039.000000  62582.000000  56021.000000\n",
      "50%    57321.000000  68229.000000  61261.000000\n",
      "75%    62748.000000  73870.000000  66554.000000\n",
      "max    68608.000000  79678.000000  72045.000000\n"
     ]
    }
   ],
   "source": [
    "print(data[[\"Person_ID\", \"AssessmentID\", \"Case_ID\"]].describe())"
   ]
  },
  {
   "cell_type": "markdown",
   "id": "5024a308",
   "metadata": {},
   "source": [
    "Range and std of these values are incredibly high. These columns represent the individual person who is being represented. I will leave them in, but I am worried that in a model without preprocessing it will skew the results and in preprocessing (center and scale or scale 0-1) the IDs will be hard to discern and will just introduce white noise into the model."
   ]
  },
  {
   "cell_type": "code",
   "execution_count": 44,
   "id": "0837683d",
   "metadata": {},
   "outputs": [],
   "source": [
    "from sklearn.preprocessing import StandardScaler\n",
    "from sklearn.preprocessing import MaxAbsScaler\n",
    "from sklearn.model_selection import train_test_split"
   ]
  },
  {
   "cell_type": "code",
   "execution_count": 45,
   "id": "f18ba85a",
   "metadata": {},
   "outputs": [],
   "source": [
    "import aequitas.flow.methods.preprocessing.data_repairer as dr"
   ]
  },
  {
   "cell_type": "markdown",
   "id": "a9c0fdfa",
   "metadata": {},
   "source": [
    "Split into X and Y sets, looking to predict DecileScore"
   ]
  },
  {
   "cell_type": "code",
   "execution_count": 46,
   "id": "43871d3a",
   "metadata": {},
   "outputs": [],
   "source": [
    "y = newData[\"DecileScore\"]\n",
    "X = newData.drop(\"DecileScore\", axis=1)"
   ]
  },
  {
   "cell_type": "code",
   "execution_count": 47,
   "id": "5adf9f6d",
   "metadata": {},
   "outputs": [],
   "source": [
    "X_train, X_test, y_train, y_test = train_test_split(X, y, random_state=42, test_size=0.2)"
   ]
  },
  {
   "cell_type": "code",
   "execution_count": 48,
   "id": "7997d995",
   "metadata": {},
   "outputs": [],
   "source": [
    "standard = StandardScaler()\n",
    "X_train_standard = standard.fit_transform(X_train)\n",
    "X_test_standard = standard.fit_transform(X_test)\n",
    "\n",
    "X_train_standard = pd.DataFrame(X_train_standard, columns=X_train.columns)\n",
    "X_test_standard = pd.DataFrame(X_test_standard, columns=X_train.columns)"
   ]
  },
  {
   "cell_type": "code",
   "execution_count": 49,
   "id": "2242733e",
   "metadata": {},
   "outputs": [],
   "source": [
    "maxabs = MaxAbsScaler()\n",
    "X_train_abs = maxabs.fit_transform(X_train)\n",
    "X_test_abs = maxabs.fit_transform(X_test)\n",
    "\n",
    "X_train_abs = pd.DataFrame(X_train_abs, columns=X_train.columns)\n",
    "X_test_abs = pd.DataFrame(X_test_abs, columns=X_train.columns)"
   ]
  },
  {
   "cell_type": "code",
   "execution_count": 50,
   "id": "0fbd3f11",
   "metadata": {},
   "outputs": [],
   "source": [
    "from pandas.api.types import CategoricalDtype"
   ]
  },
  {
   "cell_type": "code",
   "execution_count": 51,
   "id": "85983eef",
   "metadata": {
    "scrolled": false
   },
   "outputs": [],
   "source": [
    "new_aequitas[\"Ethnic_Code_Text\"] = pd.Categorical(new_aequitas[\"Ethnic_Code_Text\"])"
   ]
  },
  {
   "cell_type": "code",
   "execution_count": 52,
   "id": "a76b6bd1",
   "metadata": {},
   "outputs": [
    {
     "data": {
      "text/plain": [
       "CategoricalDtype(categories=['African-Am', 'African-American', 'Arabic', 'Asian',\n",
       "                  'Caucasian', 'Hispanic', 'Native American', 'Oriental',\n",
       "                  'Other'],\n",
       ", ordered=False, categories_dtype=object)"
      ]
     },
     "execution_count": 52,
     "metadata": {},
     "output_type": "execute_result"
    }
   ],
   "source": [
    "new_aequitas[\"Ethnic_Code_Text\"].dtype"
   ]
  },
  {
   "cell_type": "code",
   "execution_count": 53,
   "id": "bc3a2016",
   "metadata": {},
   "outputs": [],
   "source": [
    "X_a = new_aequitas.drop(\"DecileScore\", axis=1)"
   ]
  },
  {
   "cell_type": "code",
   "execution_count": 54,
   "id": "e606bacb",
   "metadata": {},
   "outputs": [],
   "source": [
    "X_a_train, X_a_test, y_a_train, y_a_test = train_test_split(X_a, y, random_state=42, test_size=0.2)"
   ]
  },
  {
   "cell_type": "code",
   "execution_count": 55,
   "id": "ef9d992a",
   "metadata": {},
   "outputs": [],
   "source": [
    "aequitas = dr.DataRepairer()"
   ]
  },
  {
   "cell_type": "code",
   "execution_count": 56,
   "id": "8cc27aba",
   "metadata": {
    "scrolled": true
   },
   "outputs": [
    {
     "name": "stderr",
     "output_type": "stream",
     "text": [
      "C:\\Users\\miale.a\\AppData\\Local\\anaconda3\\Lib\\site-packages\\aequitas\\flow\\methods\\preprocessing\\data_repairer.py:118: FutureWarning: The default of observed=False is deprecated and will be changed to True in a future version of pandas. Pass observed=False to retain current behavior or observed=True to adopt the future default and silence this warning.\n",
      "  quantile_dict = X.groupby(s)[column].quantile(self._quantile_points)\n",
      "C:\\Users\\miale.a\\AppData\\Local\\anaconda3\\Lib\\site-packages\\aequitas\\flow\\methods\\preprocessing\\data_repairer.py:118: FutureWarning: The default of observed=False is deprecated and will be changed to True in a future version of pandas. Pass observed=False to retain current behavior or observed=True to adopt the future default and silence this warning.\n",
      "  quantile_dict = X.groupby(s)[column].quantile(self._quantile_points)\n",
      "C:\\Users\\miale.a\\AppData\\Local\\anaconda3\\Lib\\site-packages\\aequitas\\flow\\methods\\preprocessing\\data_repairer.py:118: FutureWarning: The default of observed=False is deprecated and will be changed to True in a future version of pandas. Pass observed=False to retain current behavior or observed=True to adopt the future default and silence this warning.\n",
      "  quantile_dict = X.groupby(s)[column].quantile(self._quantile_points)\n",
      "C:\\Users\\miale.a\\AppData\\Local\\anaconda3\\Lib\\site-packages\\aequitas\\flow\\methods\\preprocessing\\data_repairer.py:118: FutureWarning: The default of observed=False is deprecated and will be changed to True in a future version of pandas. Pass observed=False to retain current behavior or observed=True to adopt the future default and silence this warning.\n",
      "  quantile_dict = X.groupby(s)[column].quantile(self._quantile_points)\n",
      "C:\\Users\\miale.a\\AppData\\Local\\anaconda3\\Lib\\site-packages\\aequitas\\flow\\methods\\preprocessing\\data_repairer.py:118: FutureWarning: The default of observed=False is deprecated and will be changed to True in a future version of pandas. Pass observed=False to retain current behavior or observed=True to adopt the future default and silence this warning.\n",
      "  quantile_dict = X.groupby(s)[column].quantile(self._quantile_points)\n",
      "C:\\Users\\miale.a\\AppData\\Local\\anaconda3\\Lib\\site-packages\\aequitas\\flow\\methods\\preprocessing\\data_repairer.py:118: FutureWarning: The default of observed=False is deprecated and will be changed to True in a future version of pandas. Pass observed=False to retain current behavior or observed=True to adopt the future default and silence this warning.\n",
      "  quantile_dict = X.groupby(s)[column].quantile(self._quantile_points)\n",
      "C:\\Users\\miale.a\\AppData\\Local\\anaconda3\\Lib\\site-packages\\aequitas\\flow\\methods\\preprocessing\\data_repairer.py:118: FutureWarning: The default of observed=False is deprecated and will be changed to True in a future version of pandas. Pass observed=False to retain current behavior or observed=True to adopt the future default and silence this warning.\n",
      "  quantile_dict = X.groupby(s)[column].quantile(self._quantile_points)\n",
      "C:\\Users\\miale.a\\AppData\\Local\\anaconda3\\Lib\\site-packages\\aequitas\\flow\\methods\\preprocessing\\data_repairer.py:118: FutureWarning: The default of observed=False is deprecated and will be changed to True in a future version of pandas. Pass observed=False to retain current behavior or observed=True to adopt the future default and silence this warning.\n",
      "  quantile_dict = X.groupby(s)[column].quantile(self._quantile_points)\n",
      "C:\\Users\\miale.a\\AppData\\Local\\anaconda3\\Lib\\site-packages\\aequitas\\flow\\methods\\preprocessing\\data_repairer.py:118: FutureWarning: The default of observed=False is deprecated and will be changed to True in a future version of pandas. Pass observed=False to retain current behavior or observed=True to adopt the future default and silence this warning.\n",
      "  quantile_dict = X.groupby(s)[column].quantile(self._quantile_points)\n",
      "C:\\Users\\miale.a\\AppData\\Local\\anaconda3\\Lib\\site-packages\\aequitas\\flow\\methods\\preprocessing\\data_repairer.py:118: FutureWarning: The default of observed=False is deprecated and will be changed to True in a future version of pandas. Pass observed=False to retain current behavior or observed=True to adopt the future default and silence this warning.\n",
      "  quantile_dict = X.groupby(s)[column].quantile(self._quantile_points)\n",
      "C:\\Users\\miale.a\\AppData\\Local\\anaconda3\\Lib\\site-packages\\aequitas\\flow\\methods\\preprocessing\\data_repairer.py:118: FutureWarning: The default of observed=False is deprecated and will be changed to True in a future version of pandas. Pass observed=False to retain current behavior or observed=True to adopt the future default and silence this warning.\n",
      "  quantile_dict = X.groupby(s)[column].quantile(self._quantile_points)\n",
      "C:\\Users\\miale.a\\AppData\\Local\\anaconda3\\Lib\\site-packages\\aequitas\\flow\\methods\\preprocessing\\data_repairer.py:118: FutureWarning: The default of observed=False is deprecated and will be changed to True in a future version of pandas. Pass observed=False to retain current behavior or observed=True to adopt the future default and silence this warning.\n",
      "  quantile_dict = X.groupby(s)[column].quantile(self._quantile_points)\n"
     ]
    }
   ],
   "source": [
    "aequitas.fit(X_a_train.drop(\"Ethnic_Code_Text\", axis=1), y_a_train, X_a_train[\"Ethnic_Code_Text\"])"
   ]
  },
  {
   "cell_type": "code",
   "execution_count": 57,
   "id": "5ca66f52",
   "metadata": {},
   "outputs": [],
   "source": [
    "X_aequitas, y_aequitas, s_aequitas = aequitas.transform(X_a_train.drop(\"Ethnic_Code_Text\", axis=1), y_a_train, X_a_train[\"Ethnic_Code_Text\"])"
   ]
  },
  {
   "cell_type": "code",
   "execution_count": 58,
   "id": "a7f249f5",
   "metadata": {},
   "outputs": [],
   "source": [
    "X_aequitas[\"Ethnic_Code_Text\"] = s_aequitas"
   ]
  },
  {
   "cell_type": "code",
   "execution_count": 59,
   "id": "dbd58f96",
   "metadata": {},
   "outputs": [
    {
     "data": {
      "text/html": [
       "<div>\n",
       "<style scoped>\n",
       "    .dataframe tbody tr th:only-of-type {\n",
       "        vertical-align: middle;\n",
       "    }\n",
       "\n",
       "    .dataframe tbody tr th {\n",
       "        vertical-align: top;\n",
       "    }\n",
       "\n",
       "    .dataframe thead th {\n",
       "        text-align: right;\n",
       "    }\n",
       "</style>\n",
       "<table border=\"1\" class=\"dataframe\">\n",
       "  <thead>\n",
       "    <tr style=\"text-align: right;\">\n",
       "      <th></th>\n",
       "      <th>Person_ID</th>\n",
       "      <th>AssessmentID</th>\n",
       "      <th>Case_ID</th>\n",
       "      <th>Agency_Text</th>\n",
       "      <th>Sex_Code_Text</th>\n",
       "      <th>ScaleSet_ID</th>\n",
       "      <th>LegalStatus</th>\n",
       "      <th>CustodyStatus</th>\n",
       "      <th>MaritalStatus</th>\n",
       "      <th>RecSupervisionLevel</th>\n",
       "      <th>Scale_ID</th>\n",
       "      <th>RawScore</th>\n",
       "      <th>Ethnic_Code_Text</th>\n",
       "    </tr>\n",
       "  </thead>\n",
       "  <tbody>\n",
       "    <tr>\n",
       "      <th>34520</th>\n",
       "      <td>61635.877773</td>\n",
       "      <td>70176.595618</td>\n",
       "      <td>63885.210564</td>\n",
       "      <td>0.0</td>\n",
       "      <td>0.0</td>\n",
       "      <td>22.0</td>\n",
       "      <td>0.0</td>\n",
       "      <td>2.0</td>\n",
       "      <td>0.0</td>\n",
       "      <td>1.0</td>\n",
       "      <td>18.0</td>\n",
       "      <td>13.000000</td>\n",
       "      <td>African-American</td>\n",
       "    </tr>\n",
       "    <tr>\n",
       "      <th>23410</th>\n",
       "      <td>58404.469039</td>\n",
       "      <td>66072.184256</td>\n",
       "      <td>60247.024781</td>\n",
       "      <td>0.0</td>\n",
       "      <td>0.0</td>\n",
       "      <td>22.0</td>\n",
       "      <td>0.0</td>\n",
       "      <td>2.0</td>\n",
       "      <td>0.0</td>\n",
       "      <td>2.0</td>\n",
       "      <td>8.0</td>\n",
       "      <td>0.359091</td>\n",
       "      <td>African-American</td>\n",
       "    </tr>\n",
       "    <tr>\n",
       "      <th>29776</th>\n",
       "      <td>26698.201493</td>\n",
       "      <td>67947.008469</td>\n",
       "      <td>61266.099138</td>\n",
       "      <td>1.0</td>\n",
       "      <td>0.0</td>\n",
       "      <td>22.0</td>\n",
       "      <td>0.0</td>\n",
       "      <td>1.0</td>\n",
       "      <td>0.0</td>\n",
       "      <td>1.0</td>\n",
       "      <td>8.0</td>\n",
       "      <td>-0.359542</td>\n",
       "      <td>Hispanic</td>\n",
       "    </tr>\n",
       "    <tr>\n",
       "      <th>558</th>\n",
       "      <td>35872.544558</td>\n",
       "      <td>57262.283358</td>\n",
       "      <td>38227.656976</td>\n",
       "      <td>1.0</td>\n",
       "      <td>0.0</td>\n",
       "      <td>22.0</td>\n",
       "      <td>0.0</td>\n",
       "      <td>0.0</td>\n",
       "      <td>4.0</td>\n",
       "      <td>1.0</td>\n",
       "      <td>7.0</td>\n",
       "      <td>-3.155157</td>\n",
       "      <td>Hispanic</td>\n",
       "    </tr>\n",
       "    <tr>\n",
       "      <th>39257</th>\n",
       "      <td>62825.171732</td>\n",
       "      <td>71838.048193</td>\n",
       "      <td>65348.463361</td>\n",
       "      <td>0.0</td>\n",
       "      <td>0.0</td>\n",
       "      <td>22.0</td>\n",
       "      <td>0.0</td>\n",
       "      <td>0.0</td>\n",
       "      <td>0.0</td>\n",
       "      <td>1.0</td>\n",
       "      <td>18.0</td>\n",
       "      <td>16.000000</td>\n",
       "      <td>African-American</td>\n",
       "    </tr>\n",
       "  </tbody>\n",
       "</table>\n",
       "</div>"
      ],
      "text/plain": [
       "          Person_ID  AssessmentID       Case_ID  Agency_Text  Sex_Code_Text  \\\n",
       "34520  61635.877773  70176.595618  63885.210564          0.0            0.0   \n",
       "23410  58404.469039  66072.184256  60247.024781          0.0            0.0   \n",
       "29776  26698.201493  67947.008469  61266.099138          1.0            0.0   \n",
       "558    35872.544558  57262.283358  38227.656976          1.0            0.0   \n",
       "39257  62825.171732  71838.048193  65348.463361          0.0            0.0   \n",
       "\n",
       "       ScaleSet_ID  LegalStatus  CustodyStatus  MaritalStatus  \\\n",
       "34520         22.0          0.0            2.0            0.0   \n",
       "23410         22.0          0.0            2.0            0.0   \n",
       "29776         22.0          0.0            1.0            0.0   \n",
       "558           22.0          0.0            0.0            4.0   \n",
       "39257         22.0          0.0            0.0            0.0   \n",
       "\n",
       "       RecSupervisionLevel  Scale_ID   RawScore  Ethnic_Code_Text  \n",
       "34520                  1.0      18.0  13.000000  African-American  \n",
       "23410                  2.0       8.0   0.359091  African-American  \n",
       "29776                  1.0       8.0  -0.359542          Hispanic  \n",
       "558                    1.0       7.0  -3.155157          Hispanic  \n",
       "39257                  1.0      18.0  16.000000  African-American  "
      ]
     },
     "execution_count": 59,
     "metadata": {},
     "output_type": "execute_result"
    }
   ],
   "source": [
    "X_aequitas.head()"
   ]
  },
  {
   "cell_type": "markdown",
   "id": "958ff907",
   "metadata": {},
   "source": [
    "Now make ethnic code into numbers"
   ]
  },
  {
   "cell_type": "code",
   "execution_count": 60,
   "id": "068e576e",
   "metadata": {},
   "outputs": [],
   "source": [
    "X_aequitas[\"Ethnic_Code_Text\"] = ethnicData"
   ]
  },
  {
   "cell_type": "code",
   "execution_count": 61,
   "id": "12c46589",
   "metadata": {
    "scrolled": true
   },
   "outputs": [
    {
     "data": {
      "text/html": [
       "<div>\n",
       "<style scoped>\n",
       "    .dataframe tbody tr th:only-of-type {\n",
       "        vertical-align: middle;\n",
       "    }\n",
       "\n",
       "    .dataframe tbody tr th {\n",
       "        vertical-align: top;\n",
       "    }\n",
       "\n",
       "    .dataframe thead th {\n",
       "        text-align: right;\n",
       "    }\n",
       "</style>\n",
       "<table border=\"1\" class=\"dataframe\">\n",
       "  <thead>\n",
       "    <tr style=\"text-align: right;\">\n",
       "      <th></th>\n",
       "      <th>Person_ID</th>\n",
       "      <th>AssessmentID</th>\n",
       "      <th>Case_ID</th>\n",
       "      <th>Agency_Text</th>\n",
       "      <th>Sex_Code_Text</th>\n",
       "      <th>ScaleSet_ID</th>\n",
       "      <th>LegalStatus</th>\n",
       "      <th>CustodyStatus</th>\n",
       "      <th>MaritalStatus</th>\n",
       "      <th>RecSupervisionLevel</th>\n",
       "      <th>Scale_ID</th>\n",
       "      <th>RawScore</th>\n",
       "      <th>Ethnic_Code_Text</th>\n",
       "    </tr>\n",
       "  </thead>\n",
       "  <tbody>\n",
       "    <tr>\n",
       "      <th>34520</th>\n",
       "      <td>61635.877773</td>\n",
       "      <td>70176.595618</td>\n",
       "      <td>63885.210564</td>\n",
       "      <td>0.0</td>\n",
       "      <td>0.0</td>\n",
       "      <td>22.0</td>\n",
       "      <td>0.0</td>\n",
       "      <td>2.0</td>\n",
       "      <td>0.0</td>\n",
       "      <td>1.0</td>\n",
       "      <td>18.0</td>\n",
       "      <td>13.000000</td>\n",
       "      <td>1</td>\n",
       "    </tr>\n",
       "    <tr>\n",
       "      <th>23410</th>\n",
       "      <td>58404.469039</td>\n",
       "      <td>66072.184256</td>\n",
       "      <td>60247.024781</td>\n",
       "      <td>0.0</td>\n",
       "      <td>0.0</td>\n",
       "      <td>22.0</td>\n",
       "      <td>0.0</td>\n",
       "      <td>2.0</td>\n",
       "      <td>0.0</td>\n",
       "      <td>2.0</td>\n",
       "      <td>8.0</td>\n",
       "      <td>0.359091</td>\n",
       "      <td>1</td>\n",
       "    </tr>\n",
       "    <tr>\n",
       "      <th>29776</th>\n",
       "      <td>26698.201493</td>\n",
       "      <td>67947.008469</td>\n",
       "      <td>61266.099138</td>\n",
       "      <td>1.0</td>\n",
       "      <td>0.0</td>\n",
       "      <td>22.0</td>\n",
       "      <td>0.0</td>\n",
       "      <td>1.0</td>\n",
       "      <td>0.0</td>\n",
       "      <td>1.0</td>\n",
       "      <td>8.0</td>\n",
       "      <td>-0.359542</td>\n",
       "      <td>2</td>\n",
       "    </tr>\n",
       "    <tr>\n",
       "      <th>558</th>\n",
       "      <td>35872.544558</td>\n",
       "      <td>57262.283358</td>\n",
       "      <td>38227.656976</td>\n",
       "      <td>1.0</td>\n",
       "      <td>0.0</td>\n",
       "      <td>22.0</td>\n",
       "      <td>0.0</td>\n",
       "      <td>0.0</td>\n",
       "      <td>4.0</td>\n",
       "      <td>1.0</td>\n",
       "      <td>7.0</td>\n",
       "      <td>-3.155157</td>\n",
       "      <td>2</td>\n",
       "    </tr>\n",
       "    <tr>\n",
       "      <th>39257</th>\n",
       "      <td>62825.171732</td>\n",
       "      <td>71838.048193</td>\n",
       "      <td>65348.463361</td>\n",
       "      <td>0.0</td>\n",
       "      <td>0.0</td>\n",
       "      <td>22.0</td>\n",
       "      <td>0.0</td>\n",
       "      <td>0.0</td>\n",
       "      <td>0.0</td>\n",
       "      <td>1.0</td>\n",
       "      <td>18.0</td>\n",
       "      <td>16.000000</td>\n",
       "      <td>1</td>\n",
       "    </tr>\n",
       "  </tbody>\n",
       "</table>\n",
       "</div>"
      ],
      "text/plain": [
       "          Person_ID  AssessmentID       Case_ID  Agency_Text  Sex_Code_Text  \\\n",
       "34520  61635.877773  70176.595618  63885.210564          0.0            0.0   \n",
       "23410  58404.469039  66072.184256  60247.024781          0.0            0.0   \n",
       "29776  26698.201493  67947.008469  61266.099138          1.0            0.0   \n",
       "558    35872.544558  57262.283358  38227.656976          1.0            0.0   \n",
       "39257  62825.171732  71838.048193  65348.463361          0.0            0.0   \n",
       "\n",
       "       ScaleSet_ID  LegalStatus  CustodyStatus  MaritalStatus  \\\n",
       "34520         22.0          0.0            2.0            0.0   \n",
       "23410         22.0          0.0            2.0            0.0   \n",
       "29776         22.0          0.0            1.0            0.0   \n",
       "558           22.0          0.0            0.0            4.0   \n",
       "39257         22.0          0.0            0.0            0.0   \n",
       "\n",
       "       RecSupervisionLevel  Scale_ID   RawScore  Ethnic_Code_Text  \n",
       "34520                  1.0      18.0  13.000000                 1  \n",
       "23410                  2.0       8.0   0.359091                 1  \n",
       "29776                  1.0       8.0  -0.359542                 2  \n",
       "558                    1.0       7.0  -3.155157                 2  \n",
       "39257                  1.0      18.0  16.000000                 1  "
      ]
     },
     "execution_count": 61,
     "metadata": {},
     "output_type": "execute_result"
    }
   ],
   "source": [
    "X_aequitas.head()"
   ]
  },
  {
   "cell_type": "code",
   "execution_count": 62,
   "id": "021938d8",
   "metadata": {},
   "outputs": [
    {
     "name": "stderr",
     "output_type": "stream",
     "text": [
      "C:\\Users\\miale.a\\AppData\\Local\\anaconda3\\Lib\\site-packages\\aequitas\\flow\\methods\\preprocessing\\data_repairer.py:118: FutureWarning: The default of observed=False is deprecated and will be changed to True in a future version of pandas. Pass observed=False to retain current behavior or observed=True to adopt the future default and silence this warning.\n",
      "  quantile_dict = X.groupby(s)[column].quantile(self._quantile_points)\n",
      "C:\\Users\\miale.a\\AppData\\Local\\anaconda3\\Lib\\site-packages\\aequitas\\flow\\methods\\preprocessing\\data_repairer.py:118: FutureWarning: The default of observed=False is deprecated and will be changed to True in a future version of pandas. Pass observed=False to retain current behavior or observed=True to adopt the future default and silence this warning.\n",
      "  quantile_dict = X.groupby(s)[column].quantile(self._quantile_points)\n",
      "C:\\Users\\miale.a\\AppData\\Local\\anaconda3\\Lib\\site-packages\\aequitas\\flow\\methods\\preprocessing\\data_repairer.py:118: FutureWarning: The default of observed=False is deprecated and will be changed to True in a future version of pandas. Pass observed=False to retain current behavior or observed=True to adopt the future default and silence this warning.\n",
      "  quantile_dict = X.groupby(s)[column].quantile(self._quantile_points)\n",
      "C:\\Users\\miale.a\\AppData\\Local\\anaconda3\\Lib\\site-packages\\aequitas\\flow\\methods\\preprocessing\\data_repairer.py:118: FutureWarning: The default of observed=False is deprecated and will be changed to True in a future version of pandas. Pass observed=False to retain current behavior or observed=True to adopt the future default and silence this warning.\n",
      "  quantile_dict = X.groupby(s)[column].quantile(self._quantile_points)\n",
      "C:\\Users\\miale.a\\AppData\\Local\\anaconda3\\Lib\\site-packages\\aequitas\\flow\\methods\\preprocessing\\data_repairer.py:118: FutureWarning: The default of observed=False is deprecated and will be changed to True in a future version of pandas. Pass observed=False to retain current behavior or observed=True to adopt the future default and silence this warning.\n",
      "  quantile_dict = X.groupby(s)[column].quantile(self._quantile_points)\n",
      "C:\\Users\\miale.a\\AppData\\Local\\anaconda3\\Lib\\site-packages\\aequitas\\flow\\methods\\preprocessing\\data_repairer.py:118: FutureWarning: The default of observed=False is deprecated and will be changed to True in a future version of pandas. Pass observed=False to retain current behavior or observed=True to adopt the future default and silence this warning.\n",
      "  quantile_dict = X.groupby(s)[column].quantile(self._quantile_points)\n",
      "C:\\Users\\miale.a\\AppData\\Local\\anaconda3\\Lib\\site-packages\\aequitas\\flow\\methods\\preprocessing\\data_repairer.py:118: FutureWarning: The default of observed=False is deprecated and will be changed to True in a future version of pandas. Pass observed=False to retain current behavior or observed=True to adopt the future default and silence this warning.\n",
      "  quantile_dict = X.groupby(s)[column].quantile(self._quantile_points)\n",
      "C:\\Users\\miale.a\\AppData\\Local\\anaconda3\\Lib\\site-packages\\aequitas\\flow\\methods\\preprocessing\\data_repairer.py:118: FutureWarning: The default of observed=False is deprecated and will be changed to True in a future version of pandas. Pass observed=False to retain current behavior or observed=True to adopt the future default and silence this warning.\n",
      "  quantile_dict = X.groupby(s)[column].quantile(self._quantile_points)\n",
      "C:\\Users\\miale.a\\AppData\\Local\\anaconda3\\Lib\\site-packages\\aequitas\\flow\\methods\\preprocessing\\data_repairer.py:118: FutureWarning: The default of observed=False is deprecated and will be changed to True in a future version of pandas. Pass observed=False to retain current behavior or observed=True to adopt the future default and silence this warning.\n",
      "  quantile_dict = X.groupby(s)[column].quantile(self._quantile_points)\n",
      "C:\\Users\\miale.a\\AppData\\Local\\anaconda3\\Lib\\site-packages\\aequitas\\flow\\methods\\preprocessing\\data_repairer.py:118: FutureWarning: The default of observed=False is deprecated and will be changed to True in a future version of pandas. Pass observed=False to retain current behavior or observed=True to adopt the future default and silence this warning.\n",
      "  quantile_dict = X.groupby(s)[column].quantile(self._quantile_points)\n",
      "C:\\Users\\miale.a\\AppData\\Local\\anaconda3\\Lib\\site-packages\\aequitas\\flow\\methods\\preprocessing\\data_repairer.py:118: FutureWarning: The default of observed=False is deprecated and will be changed to True in a future version of pandas. Pass observed=False to retain current behavior or observed=True to adopt the future default and silence this warning.\n",
      "  quantile_dict = X.groupby(s)[column].quantile(self._quantile_points)\n",
      "C:\\Users\\miale.a\\AppData\\Local\\anaconda3\\Lib\\site-packages\\aequitas\\flow\\methods\\preprocessing\\data_repairer.py:118: FutureWarning: The default of observed=False is deprecated and will be changed to True in a future version of pandas. Pass observed=False to retain current behavior or observed=True to adopt the future default and silence this warning.\n",
      "  quantile_dict = X.groupby(s)[column].quantile(self._quantile_points)\n"
     ]
    }
   ],
   "source": [
    "aequitas_test = dr.DataRepairer()\n",
    "aequitas.fit(X_a_test.drop(\"Ethnic_Code_Text\", axis=1), y_a_test, X_a_test[\"Ethnic_Code_Text\"])\n",
    "X_aequitas_test, y_aequitas_test, s_aequitas_test = aequitas.transform(X_a_test.drop(\"Ethnic_Code_Text\", axis=1), y_a_test, X_a_test[\"Ethnic_Code_Text\"])\n",
    "X_aequitas_test[\"Ethnic_Code_Text\"] = s_aequitas_test\n",
    "X_aequitas_test[\"Ethnic_Code_Text\"] = ethnicData"
   ]
  },
  {
   "cell_type": "markdown",
   "id": "ffb7c0aa",
   "metadata": {},
   "source": [
    "Now we can run the model on the unchanged, mean of 0, scaled 0 to 1, and aequitas data\n",
    "\n",
    "Will use random forest regression for feature importances, edit the data, then run on ploynomial regression"
   ]
  },
  {
   "cell_type": "code",
   "execution_count": 63,
   "id": "a1e78e33",
   "metadata": {},
   "outputs": [],
   "source": [
    "from sklearn.preprocessing import PolynomialFeatures\n",
    "from sklearn.pipeline import Pipeline\n",
    "from sklearn.linear_model import ElasticNet\n",
    "import matplotlib.pyplot as plt"
   ]
  },
  {
   "cell_type": "code",
   "execution_count": 64,
   "id": "9368543f",
   "metadata": {
    "scrolled": true
   },
   "outputs": [
    {
     "name": "stdout",
     "output_type": "stream",
     "text": [
      "{'Caucasian': 0, 'African-American': 1, 'Hispanic': 2, 'Other': 3, 'Asian': 4, 'African-Am': 5, 'Native American': 6, 'Oriental': 7, 'Arabic': 8}\n"
     ]
    }
   ],
   "source": [
    "print(ethnicDict)"
   ]
  },
  {
   "cell_type": "code",
   "execution_count": 65,
   "id": "86b001b6",
   "metadata": {},
   "outputs": [],
   "source": [
    "new_ind = X_test.reset_index()\n",
    "\n",
    "black_index_pred = new_ind[new_ind[\"Ethnic_Code_Text\"]==1].index # indices of data points of black people for pred\n",
    "black_index_test = X_test[X_test[\"Ethnic_Code_Text\"]==1].index # indices of data points of black people for test\n",
    "\n",
    "white_index_pred = new_ind[new_ind[\"Ethnic_Code_Text\"]==0].index # indices of data points of white people for pred\n",
    "white_index_test = X_test[X_test[\"Ethnic_Code_Text\"]==0].index # indices of data points of white people for test"
   ]
  },
  {
   "cell_type": "markdown",
   "id": "75193b85",
   "metadata": {},
   "source": [
    "Do simple linear model first, with an l1 and l2 regularizer"
   ]
  },
  {
   "cell_type": "code",
   "execution_count": 66,
   "id": "71dad6a4",
   "metadata": {
    "scrolled": true
   },
   "outputs": [
    {
     "name": "stdout",
     "output_type": "stream",
     "text": [
      "The score of the Polynomial Regression model with raw data is 0.92\n"
     ]
    },
    {
     "name": "stderr",
     "output_type": "stream",
     "text": [
      "C:\\Users\\miale.a\\AppData\\Local\\anaconda3\\Lib\\site-packages\\sklearn\\linear_model\\_coordinate_descent.py:628: ConvergenceWarning: Objective did not converge. You might want to increase the number of iterations, check the scale of the features or consider increasing regularisation. Duality gap: 1.484e+04, tolerance: 3.343e+01\n",
      "  model = cd_fast.enet_coordinate_descent(\n"
     ]
    }
   ],
   "source": [
    "lin = Pipeline([('poly', PolynomialFeatures(degree=3)),\n",
    "                ('linear', ElasticNet(random_state=42))])\n",
    "lin.fit(X_train, y_train)\n",
    "print(f\"The score of the Polynomial Regression model with raw data is {lin.score(X_test, y_test):.2f}\")"
   ]
  },
  {
   "cell_type": "code",
   "execution_count": 67,
   "id": "3b319f00",
   "metadata": {},
   "outputs": [
    {
     "name": "stdout",
     "output_type": "stream",
     "text": [
      "The score of the Polynomial Regression model with standard scaling data is 0.52\n",
      "The score of the Polynomial Regression model with min/max scaling data is -0.00\n",
      "The score of the Polynomial Regression model with Aequitas data is 0.82\n"
     ]
    },
    {
     "name": "stderr",
     "output_type": "stream",
     "text": [
      "C:\\Users\\miale.a\\AppData\\Local\\anaconda3\\Lib\\site-packages\\sklearn\\linear_model\\_coordinate_descent.py:628: ConvergenceWarning: Objective did not converge. You might want to increase the number of iterations, check the scale of the features or consider increasing regularisation. Duality gap: 2.799e+04, tolerance: 3.343e+01\n",
      "  model = cd_fast.enet_coordinate_descent(\n"
     ]
    }
   ],
   "source": [
    "lin_standard = Pipeline([('poly', PolynomialFeatures(degree=3)),\n",
    "                ('linear', ElasticNet(random_state=42))])\n",
    "lin_standard.fit(X_train_standard, y_train)\n",
    "print(f\"The score of the Polynomial Regression model with standard scaling data is {lin_standard.score(X_test_standard, y_test):.2f}\")\n",
    "\n",
    "lin_abs = Pipeline([('poly', PolynomialFeatures(degree=3)),\n",
    "                ('linear', ElasticNet(random_state=42))])\n",
    "lin_abs.fit(X_train_abs, y_train)\n",
    "print(f\"The score of the Polynomial Regression model with min/max scaling data is {lin_abs.score(X_test_abs, y_test):.2f}\")\n",
    "\n",
    "\n",
    "lin_aequitas = Pipeline([('poly', PolynomialFeatures(degree=3)),\n",
    "                ('linear', ElasticNet(random_state=42))])\n",
    "lin_aequitas.fit(X_aequitas, y_train)\n",
    "print(f\"The score of the Polynomial Regression model with Aequitas data is {lin_aequitas.score(X_aequitas_test, y_test):.2f}\")"
   ]
  },
  {
   "cell_type": "markdown",
   "id": "890fa677",
   "metadata": {},
   "source": [
    "Likely convergence warnings for person_ID and such"
   ]
  },
  {
   "cell_type": "code",
   "execution_count": 68,
   "id": "71cec547",
   "metadata": {},
   "outputs": [],
   "source": [
    "def run_model(model, X_test, y_test):\n",
    "    # print histogram for black people pred vs truth\n",
    "    pred = model.predict(X_test)\n",
    "\n",
    "    pred_hist_b = pred[black_index_pred]\n",
    "    truth_hist_b = y_test[black_index_test]\n",
    "\n",
    "    plt.hist([pred_hist_b, truth_hist_b], bins=15, alpha=0.7, label=[\"Prediction\", \"Truth\"])\n",
    "\n",
    "    plt.xlabel(\"Decile Score\")\n",
    "    plt.ylabel(\"Frequency\")\n",
    "    plt.title(\"Prediction vs. Truth For Black People\")\n",
    "    plt.xlim((-1, 11))\n",
    "\n",
    "    plt.legend()\n",
    "    plt.show()\n",
    "    \n",
    "    # print histogram for white people pred vs truth\n",
    "    pred_hist_w = pred[white_index_pred]\n",
    "    truth_hist_w = y_test[white_index_test]\n",
    "\n",
    "    plt.hist([pred_hist_w, truth_hist_w], bins=15, alpha=0.7, label=[\"Prediction\", \"Truth\"])\n",
    "\n",
    "    plt.xlabel(\"Decile Score\")\n",
    "    plt.ylabel(\"Frequency\")\n",
    "    plt.title(\"Prediction vs. Truth For White People\")\n",
    "    plt.xlim((-1, 11))\n",
    "\n",
    "    plt.legend()\n",
    "    plt.show()"
   ]
  },
  {
   "cell_type": "code",
   "execution_count": 69,
   "id": "0d08bc9d",
   "metadata": {},
   "outputs": [
    {
     "data": {
      "image/png": "[encoded data removed]",
      "text/plain": [
       "<Figure size 640x480 with 1 Axes>"
      ]
     },
     "metadata": {},
     "output_type": "display_data"
    },
    {
     "data": {
      "image/png": "[encoded data removed]",
      "text/plain": [
       "<Figure size 640x480 with 1 Axes>"
      ]
     },
     "metadata": {},
     "output_type": "display_data"
    }
   ],
   "source": [
    "run_model(lin, X_test, y_test)"
   ]
  },
  {
   "cell_type": "code",
   "execution_count": 70,
   "id": "3193839b",
   "metadata": {},
   "outputs": [
    {
     "data": {
      "image/png": "[encoded data removed]",
      "text/plain": [
       "<Figure size 640x480 with 1 Axes>"
      ]
     },
     "metadata": {},
     "output_type": "display_data"
    },
    {
     "data": {
      "image/png": "[encoded data removed]",
      "text/plain": [
       "<Figure size 640x480 with 1 Axes>"
      ]
     },
     "metadata": {},
     "output_type": "display_data"
    }
   ],
   "source": [
    "run_model(lin_standard, X_test_standard, y_test)"
   ]
  },
  {
   "cell_type": "code",
   "execution_count": 71,
   "id": "d52e3ac0",
   "metadata": {},
   "outputs": [
    {
     "data": {
      "image/png": "[encoded data removed]",
      "text/plain": [
       "<Figure size 640x480 with 1 Axes>"
      ]
     },
     "metadata": {},
     "output_type": "display_data"
    },
    {
     "data": {
      "image/png": "[encoded data removed]",
      "text/plain": [
       "<Figure size 640x480 with 1 Axes>"
      ]
     },
     "metadata": {},
     "output_type": "display_data"
    }
   ],
   "source": [
    "run_model(lin_abs, X_test_abs, y_test)"
   ]
  },
  {
   "cell_type": "markdown",
   "id": "82553e53",
   "metadata": {},
   "source": [
    "Unsure what happened here"
   ]
  },
  {
   "cell_type": "code",
   "execution_count": 72,
   "id": "987fb4af",
   "metadata": {},
   "outputs": [
    {
     "data": {
      "image/png": "[encoded data removed]",
      "text/plain": [
       "<Figure size 640x480 with 1 Axes>"
      ]
     },
     "metadata": {},
     "output_type": "display_data"
    },
    {
     "data": {
      "image/png": "[encoded data removed]",
      "text/plain": [
       "<Figure size 640x480 with 1 Axes>"
      ]
     },
     "metadata": {},
     "output_type": "display_data"
    }
   ],
   "source": [
    "run_model(lin_aequitas, X_aequitas_test, y_test)"
   ]
  }
 ],
 "metadata": {
  "kernelspec": {
   "display_name": "Python 3 (ipykernel)",
   "language": "python",
   "name": "python3"
  },
  "language_info": {
   "codemirror_mode": {
    "name": "ipython",
    "version": 3
   },
   "file_extension": ".py",
   "mimetype": "text/x-python",
   "name": "python",
   "nbconvert_exporter": "python",
   "pygments_lexer": "ipython3",
   "version": "3.11.5"
  }
 },
 "nbformat": 4,
 "nbformat_minor": 5
}
